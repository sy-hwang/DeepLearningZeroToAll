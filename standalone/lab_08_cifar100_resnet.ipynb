{
  "cells": [
    {
      "cell_type": "markdown",
      "metadata": {
        "id": "view-in-github",
        "colab_type": "text"
      },
      "source": [
        "<a href=\"https://colab.research.google.com/github/sy-hwang/DeepLearningZeroToAll/blob/master/standalone/lab_08_cifar100_resnet.ipynb\" target=\"_parent\"><img src=\"https://colab.research.google.com/assets/colab-badge.svg\" alt=\"Open In Colab\"/></a>"
      ]
    },
    {
      "cell_type": "markdown",
      "metadata": {
        "id": "z69w_MT4O5zo"
      },
      "source": [
        "IMPORT"
      ]
    },
    {
      "cell_type": "code",
      "execution_count": 2,
      "metadata": {
        "id": "L3671PS25jo_"
      },
      "outputs": [],
      "source": [
        "import torch\n",
        "import torchvision\n",
        "import torchvision.transforms as transforms\n",
        "import matplotlib.pyplot as plt\n",
        "import numpy as np\n",
        "import argparse\n",
        "import torch.optim as optim\n",
        "import torch.nn as nn\n",
        "import torch.utils.data.dataloader"
      ]
    },
    {
      "cell_type": "markdown",
      "metadata": {
        "id": "ClPaiTz9O5zq"
      },
      "source": [
        "Hyperparameter"
      ]
    },
    {
      "cell_type": "code",
      "execution_count": 3,
      "metadata": {
        "id": "eiv_bnmQO5zr",
        "outputId": "220a9068-3b24-4d9c-ce74-3e3fee496fe0",
        "colab": {
          "base_uri": "https://localhost:8080/"
        }
      },
      "outputs": [
        {
          "output_type": "stream",
          "name": "stdout",
          "text": [
            "Namespace(lr=0.001, trainsize=0.8, num_workers=2, batch_size=1024, in_dim=3072, in_channels=3, out_dim=10, hidden_dim=100, hidden_layer=3, act='relu', device=device(type='cuda', index=0), momentum=0.9, epoch=5, optimizer='adam', dropout_prob=0.5, weight_decay=0.0001, model='MLP')\n"
          ]
        }
      ],
      "source": [
        "parser = argparse.ArgumentParser()\n",
        "args = parser.parse_args(\"\")\n",
        "args.lr = 0.001\n",
        "args.trainsize = 0.8\n",
        "args.num_workers = 2\n",
        "args.batch_size = 1024\n",
        "args.in_dim = 32*32*3\n",
        "args.in_channels = 3\n",
        "args.out_dim=10\n",
        "args.hidden_dim=100\n",
        "args.hidden_layer =3\n",
        "args.act = 'relu'\n",
        "args.device = torch.device(\"cuda:0\" if torch.cuda.is_available() else \"cpu\")\n",
        "args.momentum = 0.9\n",
        "args.epoch=5\n",
        "args.optimizer = 'adam'\n",
        "args.dropout_prob = 0.5\n",
        "args.weight_decay=0.0001\n",
        "args.model ='MLP'\n",
        "print(args)\n",
        "\n",
        "seed = 123\n",
        "np.random.seed(seed)\n",
        "torch.manual_seed(seed)\n",
        "torch.cuda.manual_seed(seed)"
      ]
    },
    {
      "cell_type": "code",
      "source": [
        "!pip install neptune-client psutil\n",
        "import neptune"
      ],
      "metadata": {
        "colab": {
          "base_uri": "https://localhost:8080/"
        },
        "id": "WJ-x0nQXL0Nj",
        "outputId": "944c7513-dbd7-454f-fe32-28d985b07d51"
      },
      "execution_count": 4,
      "outputs": [
        {
          "output_type": "stream",
          "name": "stdout",
          "text": [
            "Collecting neptune-client\n",
            "  Downloading neptune_client-1.11.1-py3-none-any.whl.metadata (16 kB)\n",
            "Requirement already satisfied: psutil in /usr/local/lib/python3.10/dist-packages (5.9.5)\n",
            "Collecting GitPython>=2.0.8 (from neptune-client)\n",
            "  Downloading GitPython-3.1.43-py3-none-any.whl.metadata (13 kB)\n",
            "Requirement already satisfied: Pillow>=1.1.6 in /usr/local/lib/python3.10/dist-packages (from neptune-client) (10.4.0)\n",
            "Requirement already satisfied: PyJWT in /usr/local/lib/python3.10/dist-packages (from neptune-client) (2.9.0)\n",
            "Collecting boto3>=1.28.0 (from neptune-client)\n",
            "  Downloading boto3-1.35.24-py3-none-any.whl.metadata (6.6 kB)\n",
            "Collecting bravado<12.0.0,>=11.0.0 (from neptune-client)\n",
            "  Downloading bravado-11.0.3-py2.py3-none-any.whl.metadata (5.9 kB)\n",
            "Requirement already satisfied: click>=7.0 in /usr/local/lib/python3.10/dist-packages (from neptune-client) (8.1.7)\n",
            "Requirement already satisfied: future>=0.17.1 in /usr/local/lib/python3.10/dist-packages (from neptune-client) (1.0.0)\n",
            "Requirement already satisfied: oauthlib>=2.1.0 in /usr/local/lib/python3.10/dist-packages (from neptune-client) (3.2.2)\n",
            "Requirement already satisfied: packaging in /usr/local/lib/python3.10/dist-packages (from neptune-client) (24.1)\n",
            "Requirement already satisfied: pandas in /usr/local/lib/python3.10/dist-packages (from neptune-client) (2.1.4)\n",
            "Requirement already satisfied: requests>=2.20.0 in /usr/local/lib/python3.10/dist-packages (from neptune-client) (2.32.3)\n",
            "Requirement already satisfied: requests-oauthlib>=1.0.0 in /usr/local/lib/python3.10/dist-packages (from neptune-client) (1.3.1)\n",
            "Requirement already satisfied: six>=1.12.0 in /usr/local/lib/python3.10/dist-packages (from neptune-client) (1.16.0)\n",
            "Collecting swagger-spec-validator>=2.7.4 (from neptune-client)\n",
            "  Downloading swagger_spec_validator-3.0.4-py2.py3-none-any.whl.metadata (2.5 kB)\n",
            "Requirement already satisfied: typing-extensions>=3.10.0 in /usr/local/lib/python3.10/dist-packages (from neptune-client) (4.12.2)\n",
            "Requirement already satisfied: urllib3 in /usr/local/lib/python3.10/dist-packages (from neptune-client) (2.0.7)\n",
            "Requirement already satisfied: websocket-client!=1.0.0,>=0.35.0 in /usr/local/lib/python3.10/dist-packages (from neptune-client) (1.8.0)\n",
            "Collecting botocore<1.36.0,>=1.35.24 (from boto3>=1.28.0->neptune-client)\n",
            "  Downloading botocore-1.35.24-py3-none-any.whl.metadata (5.7 kB)\n",
            "Collecting jmespath<2.0.0,>=0.7.1 (from boto3>=1.28.0->neptune-client)\n",
            "  Downloading jmespath-1.0.1-py3-none-any.whl.metadata (7.6 kB)\n",
            "Collecting s3transfer<0.11.0,>=0.10.0 (from boto3>=1.28.0->neptune-client)\n",
            "  Downloading s3transfer-0.10.2-py3-none-any.whl.metadata (1.7 kB)\n",
            "Collecting bravado-core>=5.16.1 (from bravado<12.0.0,>=11.0.0->neptune-client)\n",
            "  Downloading bravado-core-6.1.1.tar.gz (63 kB)\n",
            "\u001b[2K     \u001b[90m━━━━━━━━━━━━━━━━━━━━━━━━━━━━━━━━━━━━━━━━\u001b[0m \u001b[32m63.9/63.9 kB\u001b[0m \u001b[31m3.5 MB/s\u001b[0m eta \u001b[36m0:00:00\u001b[0m\n",
            "\u001b[?25h  Preparing metadata (setup.py) ... \u001b[?25l\u001b[?25hdone\n",
            "Requirement already satisfied: msgpack in /usr/local/lib/python3.10/dist-packages (from bravado<12.0.0,>=11.0.0->neptune-client) (1.0.8)\n",
            "Requirement already satisfied: python-dateutil in /usr/local/lib/python3.10/dist-packages (from bravado<12.0.0,>=11.0.0->neptune-client) (2.8.2)\n",
            "Requirement already satisfied: pyyaml in /usr/local/lib/python3.10/dist-packages (from bravado<12.0.0,>=11.0.0->neptune-client) (6.0.2)\n",
            "Collecting simplejson (from bravado<12.0.0,>=11.0.0->neptune-client)\n",
            "  Downloading simplejson-3.19.3-cp310-cp310-manylinux_2_5_x86_64.manylinux1_x86_64.manylinux_2_17_x86_64.manylinux2014_x86_64.whl.metadata (3.2 kB)\n",
            "Collecting monotonic (from bravado<12.0.0,>=11.0.0->neptune-client)\n",
            "  Downloading monotonic-1.6-py2.py3-none-any.whl.metadata (1.5 kB)\n",
            "Collecting gitdb<5,>=4.0.1 (from GitPython>=2.0.8->neptune-client)\n",
            "  Downloading gitdb-4.0.11-py3-none-any.whl.metadata (1.2 kB)\n",
            "Requirement already satisfied: charset-normalizer<4,>=2 in /usr/local/lib/python3.10/dist-packages (from requests>=2.20.0->neptune-client) (3.3.2)\n",
            "Requirement already satisfied: idna<4,>=2.5 in /usr/local/lib/python3.10/dist-packages (from requests>=2.20.0->neptune-client) (3.10)\n",
            "Requirement already satisfied: certifi>=2017.4.17 in /usr/local/lib/python3.10/dist-packages (from requests>=2.20.0->neptune-client) (2024.8.30)\n",
            "Requirement already satisfied: jsonschema in /usr/local/lib/python3.10/dist-packages (from swagger-spec-validator>=2.7.4->neptune-client) (4.23.0)\n",
            "Requirement already satisfied: importlib-resources>=1.3 in /usr/local/lib/python3.10/dist-packages (from swagger-spec-validator>=2.7.4->neptune-client) (6.4.5)\n",
            "Requirement already satisfied: numpy<2,>=1.22.4 in /usr/local/lib/python3.10/dist-packages (from pandas->neptune-client) (1.26.4)\n",
            "Requirement already satisfied: pytz>=2020.1 in /usr/local/lib/python3.10/dist-packages (from pandas->neptune-client) (2024.2)\n",
            "Requirement already satisfied: tzdata>=2022.1 in /usr/local/lib/python3.10/dist-packages (from pandas->neptune-client) (2024.1)\n",
            "Collecting jsonref (from bravado-core>=5.16.1->bravado<12.0.0,>=11.0.0->neptune-client)\n",
            "  Downloading jsonref-1.1.0-py3-none-any.whl.metadata (2.7 kB)\n",
            "Collecting smmap<6,>=3.0.1 (from gitdb<5,>=4.0.1->GitPython>=2.0.8->neptune-client)\n",
            "  Downloading smmap-5.0.1-py3-none-any.whl.metadata (4.3 kB)\n",
            "Requirement already satisfied: attrs>=22.2.0 in /usr/local/lib/python3.10/dist-packages (from jsonschema->swagger-spec-validator>=2.7.4->neptune-client) (24.2.0)\n",
            "Requirement already satisfied: jsonschema-specifications>=2023.03.6 in /usr/local/lib/python3.10/dist-packages (from jsonschema->swagger-spec-validator>=2.7.4->neptune-client) (2023.12.1)\n",
            "Requirement already satisfied: referencing>=0.28.4 in /usr/local/lib/python3.10/dist-packages (from jsonschema->swagger-spec-validator>=2.7.4->neptune-client) (0.35.1)\n",
            "Requirement already satisfied: rpds-py>=0.7.1 in /usr/local/lib/python3.10/dist-packages (from jsonschema->swagger-spec-validator>=2.7.4->neptune-client) (0.20.0)\n",
            "Collecting fqdn (from jsonschema[format-nongpl]>=2.5.1->bravado-core>=5.16.1->bravado<12.0.0,>=11.0.0->neptune-client)\n",
            "  Downloading fqdn-1.5.1-py3-none-any.whl.metadata (1.4 kB)\n",
            "Collecting isoduration (from jsonschema[format-nongpl]>=2.5.1->bravado-core>=5.16.1->bravado<12.0.0,>=11.0.0->neptune-client)\n",
            "  Downloading isoduration-20.11.0-py3-none-any.whl.metadata (5.7 kB)\n",
            "Collecting jsonpointer>1.13 (from jsonschema[format-nongpl]>=2.5.1->bravado-core>=5.16.1->bravado<12.0.0,>=11.0.0->neptune-client)\n",
            "  Downloading jsonpointer-3.0.0-py2.py3-none-any.whl.metadata (2.3 kB)\n",
            "Collecting rfc3339-validator (from jsonschema[format-nongpl]>=2.5.1->bravado-core>=5.16.1->bravado<12.0.0,>=11.0.0->neptune-client)\n",
            "  Downloading rfc3339_validator-0.1.4-py2.py3-none-any.whl.metadata (1.5 kB)\n",
            "Collecting rfc3986-validator>0.1.0 (from jsonschema[format-nongpl]>=2.5.1->bravado-core>=5.16.1->bravado<12.0.0,>=11.0.0->neptune-client)\n",
            "  Downloading rfc3986_validator-0.1.1-py2.py3-none-any.whl.metadata (1.7 kB)\n",
            "Collecting uri-template (from jsonschema[format-nongpl]>=2.5.1->bravado-core>=5.16.1->bravado<12.0.0,>=11.0.0->neptune-client)\n",
            "  Downloading uri_template-1.3.0-py3-none-any.whl.metadata (8.8 kB)\n",
            "Requirement already satisfied: webcolors>=24.6.0 in /usr/local/lib/python3.10/dist-packages (from jsonschema[format-nongpl]>=2.5.1->bravado-core>=5.16.1->bravado<12.0.0,>=11.0.0->neptune-client) (24.8.0)\n",
            "Collecting arrow>=0.15.0 (from isoduration->jsonschema[format-nongpl]>=2.5.1->bravado-core>=5.16.1->bravado<12.0.0,>=11.0.0->neptune-client)\n",
            "  Downloading arrow-1.3.0-py3-none-any.whl.metadata (7.5 kB)\n",
            "Collecting types-python-dateutil>=2.8.10 (from arrow>=0.15.0->isoduration->jsonschema[format-nongpl]>=2.5.1->bravado-core>=5.16.1->bravado<12.0.0,>=11.0.0->neptune-client)\n",
            "  Downloading types_python_dateutil-2.9.0.20240906-py3-none-any.whl.metadata (1.9 kB)\n",
            "Downloading neptune_client-1.11.1-py3-none-any.whl (501 kB)\n",
            "\u001b[2K   \u001b[90m━━━━━━━━━━━━━━━━━━━━━━━━━━━━━━━━━━━━━━━━\u001b[0m \u001b[32m501.5/501.5 kB\u001b[0m \u001b[31m20.2 MB/s\u001b[0m eta \u001b[36m0:00:00\u001b[0m\n",
            "\u001b[?25hDownloading boto3-1.35.24-py3-none-any.whl (139 kB)\n",
            "\u001b[2K   \u001b[90m━━━━━━━━━━━━━━━━━━━━━━━━━━━━━━━━━━━━━━━━\u001b[0m \u001b[32m139.2/139.2 kB\u001b[0m \u001b[31m14.2 MB/s\u001b[0m eta \u001b[36m0:00:00\u001b[0m\n",
            "\u001b[?25hDownloading bravado-11.0.3-py2.py3-none-any.whl (38 kB)\n",
            "Downloading GitPython-3.1.43-py3-none-any.whl (207 kB)\n",
            "\u001b[2K   \u001b[90m━━━━━━━━━━━━━━━━━━━━━━━━━━━━━━━━━━━━━━━━\u001b[0m \u001b[32m207.3/207.3 kB\u001b[0m \u001b[31m21.1 MB/s\u001b[0m eta \u001b[36m0:00:00\u001b[0m\n",
            "\u001b[?25hDownloading swagger_spec_validator-3.0.4-py2.py3-none-any.whl (28 kB)\n",
            "Downloading botocore-1.35.24-py3-none-any.whl (12.6 MB)\n",
            "\u001b[2K   \u001b[90m━━━━━━━━━━━━━━━━━━━━━━━━━━━━━━━━━━━━━━━━\u001b[0m \u001b[32m12.6/12.6 MB\u001b[0m \u001b[31m105.6 MB/s\u001b[0m eta \u001b[36m0:00:00\u001b[0m\n",
            "\u001b[?25hDownloading gitdb-4.0.11-py3-none-any.whl (62 kB)\n",
            "\u001b[2K   \u001b[90m━━━━━━━━━━━━━━━━━━━━━━━━━━━━━━━━━━━━━━━━\u001b[0m \u001b[32m62.7/62.7 kB\u001b[0m \u001b[31m6.0 MB/s\u001b[0m eta \u001b[36m0:00:00\u001b[0m\n",
            "\u001b[?25hDownloading jmespath-1.0.1-py3-none-any.whl (20 kB)\n",
            "Downloading s3transfer-0.10.2-py3-none-any.whl (82 kB)\n",
            "\u001b[2K   \u001b[90m━━━━━━━━━━━━━━━━━━━━━━━━━━━━━━━━━━━━━━━━\u001b[0m \u001b[32m82.7/82.7 kB\u001b[0m \u001b[31m8.8 MB/s\u001b[0m eta \u001b[36m0:00:00\u001b[0m\n",
            "\u001b[?25hDownloading monotonic-1.6-py2.py3-none-any.whl (8.2 kB)\n",
            "Downloading simplejson-3.19.3-cp310-cp310-manylinux_2_5_x86_64.manylinux1_x86_64.manylinux_2_17_x86_64.manylinux2014_x86_64.whl (137 kB)\n",
            "\u001b[2K   \u001b[90m━━━━━━━━━━━━━━━━━━━━━━━━━━━━━━━━━━━━━━━━\u001b[0m \u001b[32m137.9/137.9 kB\u001b[0m \u001b[31m14.3 MB/s\u001b[0m eta \u001b[36m0:00:00\u001b[0m\n",
            "\u001b[?25hDownloading smmap-5.0.1-py3-none-any.whl (24 kB)\n",
            "Downloading jsonref-1.1.0-py3-none-any.whl (9.4 kB)\n",
            "Downloading jsonpointer-3.0.0-py2.py3-none-any.whl (7.6 kB)\n",
            "Downloading rfc3986_validator-0.1.1-py2.py3-none-any.whl (4.2 kB)\n",
            "Downloading fqdn-1.5.1-py3-none-any.whl (9.1 kB)\n",
            "Downloading isoduration-20.11.0-py3-none-any.whl (11 kB)\n",
            "Downloading rfc3339_validator-0.1.4-py2.py3-none-any.whl (3.5 kB)\n",
            "Downloading uri_template-1.3.0-py3-none-any.whl (11 kB)\n",
            "Downloading arrow-1.3.0-py3-none-any.whl (66 kB)\n",
            "\u001b[2K   \u001b[90m━━━━━━━━━━━━━━━━━━━━━━━━━━━━━━━━━━━━━━━━\u001b[0m \u001b[32m66.4/66.4 kB\u001b[0m \u001b[31m6.5 MB/s\u001b[0m eta \u001b[36m0:00:00\u001b[0m\n",
            "\u001b[?25hDownloading types_python_dateutil-2.9.0.20240906-py3-none-any.whl (9.7 kB)\n",
            "Building wheels for collected packages: bravado-core\n",
            "  Building wheel for bravado-core (setup.py) ... \u001b[?25l\u001b[?25hdone\n",
            "  Created wheel for bravado-core: filename=bravado_core-6.1.1-py2.py3-none-any.whl size=67675 sha256=954c7606117081c40a9a29620d42a35583d35f71347ceef8a299c81583959f9f\n",
            "  Stored in directory: /root/.cache/pip/wheels/42/35/4a/44ec4c358db21a5d63ed4e40f0f0012a438106f220bce4ccba\n",
            "Successfully built bravado-core\n",
            "Installing collected packages: monotonic, uri-template, types-python-dateutil, smmap, simplejson, rfc3986-validator, rfc3339-validator, jsonref, jsonpointer, jmespath, fqdn, gitdb, botocore, arrow, s3transfer, isoduration, GitPython, swagger-spec-validator, boto3, bravado-core, bravado, neptune-client\n",
            "Successfully installed GitPython-3.1.43 arrow-1.3.0 boto3-1.35.24 botocore-1.35.24 bravado-11.0.3 bravado-core-6.1.1 fqdn-1.5.1 gitdb-4.0.11 isoduration-20.11.0 jmespath-1.0.1 jsonpointer-3.0.0 jsonref-1.1.0 monotonic-1.6 neptune-client-1.11.1 rfc3339-validator-0.1.4 rfc3986-validator-0.1.1 s3transfer-0.10.2 simplejson-3.19.3 smmap-5.0.1 swagger-spec-validator-3.0.4 types-python-dateutil-2.9.0.20240906 uri-template-1.3.0\n"
          ]
        },
        {
          "output_type": "stream",
          "name": "stderr",
          "text": [
            "[neptune] [warning] NeptuneDeprecationWarning: The 'neptune-client' package has been deprecated and will be removed in the future. Install the 'neptune' package instead. For more, see https://docs.neptune.ai/setup/upgrading/\n"
          ]
        }
      ]
    },
    {
      "cell_type": "markdown",
      "metadata": {
        "id": "Gper_0IQO5zs"
      },
      "source": [
        "Data generation"
      ]
    },
    {
      "cell_type": "code",
      "execution_count": 38,
      "metadata": {
        "id": "G88C1AfMO5zs",
        "outputId": "b377b95c-3c87-416a-cc2a-7e1504ffcbfa",
        "colab": {
          "base_uri": "https://localhost:8080/"
        }
      },
      "outputs": [
        {
          "output_type": "stream",
          "name": "stdout",
          "text": [
            "Files already downloaded and verified\n",
            "Files already downloaded and verified\n"
          ]
        }
      ],
      "source": [
        "# 데이터 증강 파이프라인\n",
        "train_transform = transforms.Compose([\n",
        "    transforms.RandomCrop(32, padding=4),               # 랜덤 크롭 + 패딩\n",
        "    transforms.RandomHorizontalFlip(),                  # 랜덤 좌우 반전\n",
        "    transforms.ColorJitter(brightness=0.2, contrast=0.2, saturation=0.2, hue=0.1),  # 색상 변환\n",
        "    transforms.RandomErasing(p=0.5),\n",
        "    transforms.ToTensor(),                              # 텐서로 변환\n",
        "    transforms.Normalize((0.5, 0.5, 0.5), (0.5, 0.5, 0.5))  # 정규화\n",
        "])\n",
        "\n",
        "# 검증 및 테스트 시에는 데이터 증강 없이 정규화만 적용\n",
        "test_transform = transforms.Compose([\n",
        "    transforms.ToTensor(),\n",
        "    transforms.Normalize((0.5, 0.5, 0.5), (0.5, 0.5, 0.5))\n",
        "])\n",
        "\n",
        "# CIFAR-100 데이터셋 로드\n",
        "trainSet = torchvision.datasets.CIFAR100(root='./data', train=True, download=True, transform=train_transform)\n",
        "trainSize = int(args.trainsize * len(trainSet))\n",
        "validateSize = len(trainSet) - trainSize\n",
        "\n",
        "# 학습 및 검증 데이터셋 분리\n",
        "trainSet, validateSet = torch.utils.data.random_split(trainSet, [trainSize, validateSize])\n",
        "\n",
        "# 검증 세트는 데이터 증강 없이\n",
        "validateSet.dataset.transform = test_transform\n",
        "\n",
        "# 테스트 데이터셋\n",
        "testSet = torchvision.datasets.CIFAR100(root='./data', train=False, download=True, transform=test_transform)\n"
      ]
    },
    {
      "cell_type": "code",
      "source": [
        "trainLoader = torch.utils.data.DataLoader(trainSet, batch_size=args.batch_size, shuffle=True, num_workers=args.num_workers)\n",
        "validateLoader = torch.utils.data.DataLoader(validateSet, batch_size=args.batch_size, shuffle=False, num_workers=args.num_workers)\n",
        "testLoader = torch.utils.data.DataLoader(testSet, batch_size=args.batch_size, shuffle=False, num_workers=args.num_workers)\n",
        "\n",
        "print(f\"set Nums : {len(trainSet), len(validateSet), len(testSet)}\")\n",
        "print(f\"batchSize: {args.batch_size} / num Batches : {len(trainSet)//args.batch_size}, {len(validateSet)//args.batch_size}, {len(testSet)//args.batch_size}\")"
      ],
      "metadata": {
        "colab": {
          "base_uri": "https://localhost:8080/"
        },
        "id": "2orVU4VtXxkZ",
        "outputId": "47cd3790-dd19-4e5f-baa3-e2ce73e3ebcc"
      },
      "execution_count": 39,
      "outputs": [
        {
          "output_type": "stream",
          "name": "stdout",
          "text": [
            "set Nums : (40000, 10000, 10000)\n",
            "batchSize: 1024 / num Batches : 39, 9, 9\n"
          ]
        }
      ]
    },
    {
      "cell_type": "code",
      "execution_count": 7,
      "metadata": {
        "colab": {
          "base_uri": "https://localhost:8080/",
          "height": 473
        },
        "id": "N-aAuPZ650KZ",
        "outputId": "ba71fbee-fef8-4f41-ef7d-7002682642e3"
      },
      "outputs": [
        {
          "output_type": "display_data",
          "data": {
            "text/plain": [
              "<Figure size 640x480 with 1 Axes>"
            ],
            "image/png": "[encoded data removed]"
          },
          "metadata": {}
        },
        {
          "output_type": "stream",
          "name": "stdout",
          "text": [
            "hamster bowl  rocket rocket bridge tiger tulip elephant trout girl  raccoon poppy tank  lizard bridge plain mountain rabbit wolf  wolf  skyscraper kangaroo shrew bottle palm_tree raccoon cattle tiger boy   girl  ray   skunk rocket porcupine skyscraper ray   boy   maple_tree snail shark wolf  seal  streetcar willow_tree castle keyboard worm  bed   worm  possum raccoon wolf  spider pear  kangaroo tulip bear  road  oak_tree dinosaur plate porcupine seal  sea   tulip ray   tulip ray   bowl  crab  turtle bear  whale cattle plate bee   can   palm_tree can   rabbit clock cockroach leopard shark tank  bowl  chimpanzee dinosaur butterfly palm_tree train baby  rabbit lamp  tank  baby  clock shrew dolphin otter girl  beetle skunk tank  cattle bed   pickup_truck mushroom orchid apple bus   lobster sweet_pepper cockroach lion  boy   man   beaver raccoon pine_tree motorcycle tank  baby  snail pickup_truck plain rabbit sweet_pepper road  cattle butterfly cloud elephant man   worm  leopard tank  keyboard pine_tree dinosaur lizard tractor dinosaur porcupine sweet_pepper palm_tree squirrel pear  man   spider wolf  tulip palm_tree cup   shark whale television worm  tractor cattle bus   cattle bottle snail spider hamster rocket tiger mouse bowl  seal  spider elephant bee   turtle crab  pickup_truck cockroach ray   bear  hamster beaver butterfly sunflower leopard turtle aquarium_fish road  rose  lamp  beaver raccoon pear  man   crocodile boy   cockroach palm_tree mushroom bowl  mushroom bicycle caterpillar keyboard tiger tank  plain aquarium_fish kangaroo whale bottle baby  road  telephone mushroom keyboard aquarium_fish forest bowl  cloud rocket palm_tree bridge bus   elephant chimpanzee shark leopard lion  lawn_mower crocodile can   shark lawn_mower cloud streetcar bowl  pickup_truck shark chimpanzee flatfish bus   tank  sunflower telephone spider table pickup_truck tractor sea   couch mushroom lamp  plain camel forest tank  beaver trout mushroom road  dinosaur leopard willow_tree orchid orange bottle squirrel keyboard road  skunk bee   pine_tree shrew clock lobster beetle bottle mushroom crocodile pine_tree skyscraper snail lamp  castle seal  pear  lizard bee   shrew bicycle woman telephone flatfish rose  girl  pine_tree skunk keyboard squirrel pine_tree tulip bee   sea   crocodile motorcycle willow_tree plate ray   trout bicycle maple_tree spider plate rose  lizard chair apple shrew clock crab  house orange pickup_truck baby  snake boy   worm  tank  bridge sweet_pepper palm_tree cup   streetcar tiger cattle whale ray   road  tulip couch tulip orange bear  pear  leopard apple dinosaur table lion  tulip chimpanzee chimpanzee camel elephant sunflower pine_tree dinosaur shark boy   rocket pear  maple_tree chair table skyscraper cattle oak_tree shrew squirrel girl  fox   plain crab  elephant apple lawn_mower ray   raccoon rose  squirrel wolf  can   raccoon flatfish dinosaur girl  baby  lobster pear  bee   skunk rocket trout fox   sunflower porcupine seal  dolphin chimpanzee crocodile dolphin mushroom couch worm  willow_tree rocket bridge cup   poppy hamster cloud forest willow_tree maple_tree snake snake cup   keyboard seal  bee   pine_tree beetle bridge rabbit kangaroo seal  pickup_truck skunk trout snake beaver snake forest pickup_truck otter chimpanzee wardrobe oak_tree mountain rose  elephant lawn_mower tank  lawn_mower house telephone chair bee   house shrew chair crab  butterfly trout lawn_mower squirrel plate worm  camel road  tulip trout dinosaur lion  poppy wardrobe table dinosaur otter possum bicycle mouse road  skyscraper lamp  tulip chair bridge oak_tree train bicycle camel television telephone pine_tree trout sweet_pepper bed   trout baby  spider cup   lamp  lion  maple_tree plate spider porcupine table orange crocodile tractor rocket bridge baby  palm_tree beaver keyboard porcupine aquarium_fish crab  cockroach porcupine lobster sea   television flatfish worm  keyboard lawn_mower mountain skyscraper bed   plate plate lion  fox   lawn_mower wardrobe lobster spider forest chair raccoon table sea   bus   television tractor tulip bed   turtle whale snail plate wolf  road  lion  lizard snake cockroach snake castle cloud tractor snake house snail chair oak_tree forest motorcycle bear  trout sweet_pepper snake flatfish sea   maple_tree chair fox   streetcar willow_tree fox   skunk man   squirrel tiger boy   wolf  house woman sweet_pepper bee   chair dinosaur sunflower woman shark cup   table lobster lamp  seal  raccoon flatfish hamster sweet_pepper train willow_tree pear  sea   wardrobe hamster bowl  pear  keyboard lizard table shark cloud aquarium_fish sweet_pepper tractor kangaroo shrew cloud mountain bear  dinosaur bear  rose  lamp  ray   plate oak_tree train caterpillar pickup_truck girl  orange maple_tree can   willow_tree maple_tree tiger shark beaver pickup_truck trout skunk lamp  baby  cup   telephone beetle oak_tree cup   rose  lobster tulip rocket bowl  ray   raccoon orchid palm_tree telephone road  leopard mountain crab  rose  forest lizard pickup_truck leopard raccoon sunflower pear  shrew tractor sweet_pepper orchid wardrobe chimpanzee pickup_truck plain rabbit kangaroo shark cattle maple_tree wardrobe snake whale man   lion  tiger crocodile raccoon bowl  plate bottle snake tiger ray   mountain turtle whale possum crocodile wolf  castle tank  whale pear  tiger squirrel baby  mountain lion  train possum beaver plate cloud porcupine bear  dinosaur telephone palm_tree mouse keyboard sunflower chair can   tiger wardrobe wardrobe crab  wardrobe couch whale plate hamster otter porcupine pickup_truck snake flatfish beetle seal  cockroach cloud clock pine_tree kangaroo spider aquarium_fish raccoon flatfish snake crab  clock skyscraper keyboard pickup_truck streetcar sunflower elephant lion  sea   raccoon mushroom tractor tulip fox   willow_tree tank  mountain boy   rocket mushroom cattle tulip turtle table shrew mouse sunflower plate plate dinosaur dinosaur bed   leopard chair lawn_mower dolphin beetle orange chair beetle pickup_truck girl  wardrobe pickup_truck maple_tree pine_tree streetcar house turtle motorcycle sunflower possum hamster bicycle sweet_pepper bus   bear  aquarium_fish tank  bicycle house tractor cockroach castle bottle butterfly bridge aquarium_fish chair bear  tractor bear  sweet_pepper orchid shark pine_tree wolf  mouse spider porcupine bear  television caterpillar poppy otter otter caterpillar worm  cockroach beetle squirrel television pickup_truck oak_tree willow_tree sea   bear  sunflower sea   flatfish rose  skyscraper beetle trout butterfly girl  rose  cloud raccoon maple_tree oak_tree camel can   boy   kangaroo baby  streetcar maple_tree sunflower cattle castle butterfly orchid motorcycle apple raccoon oak_tree mushroom rocket flatfish bee   motorcycle raccoon otter clock castle motorcycle whale turtle pine_tree otter oak_tree can   aquarium_fish mouse woman train boy   trout lion  plate plate can   woman elephant shrew raccoon sweet_pepper telephone bee   sweet_pepper lawn_mower cup   clock raccoon seal  orange cockroach can   mushroom train cockroach baby  skyscraper pickup_truck otter trout seal  kangaroo road  seal  sweet_pepper sweet_pepper beaver table sweet_pepper bee   bed   chimpanzee train skyscraper porcupine beaver snake spider worm  wolf  spider road  chimpanzee hamster squirrel lawn_mower flatfish orchid chimpanzee streetcar bicycle cloud motorcycle mountain apple willow_tree pine_tree camel bear  raccoon house sweet_pepper snail lion  wardrobe sweet_pepper bicycle bottle apple lobster beaver skyscraper spider rocket poppy tank  squirrel lamp  snail baby  girl  plain tractor oak_tree cup   woman cockroach dinosaur cattle chair dinosaur lobster leopard poppy porcupine crocodile worm  chair apple keyboard tank  elephant tiger bear  bed   ray   lobster tank  wardrobe poppy tank  skunk\n"
          ]
        }
      ],
      "source": [
        "# 이미지를 보여주기 위한 함수\n",
        "\n",
        "def imshow(img):\n",
        "    img = img / 2 + 0.5     # unnormalize\n",
        "    npimg = img.numpy()\n",
        "    plt.imshow(np.transpose(npimg, (1, 2, 0)))\n",
        "    plt.show()\n",
        "\n",
        "\n",
        "# 학습용 이미지를 무작위로 가져오기\n",
        "dataiter = iter(trainLoader)\n",
        "images, labels = next(dataiter)\n",
        "\n",
        "# 이미지 보여주기\n",
        "imshow(torchvision.utils.make_grid(images))\n",
        "classes = [\n",
        "    'apple', 'aquarium_fish', 'baby', 'bear', 'beaver', 'bed', 'bee', 'beetle', 'bicycle', 'bottle',\n",
        "    'bowl', 'boy', 'bridge', 'bus', 'butterfly', 'camel', 'can', 'castle', 'caterpillar', 'cattle',\n",
        "    'chair', 'chimpanzee', 'clock', 'cloud', 'cockroach', 'couch', 'crab', 'crocodile', 'cup', 'dinosaur',\n",
        "    'dolphin', 'elephant', 'flatfish', 'forest', 'fox', 'girl', 'hamster', 'house', 'kangaroo', 'keyboard', 'lamp',\n",
        "    'lawn_mower', 'leopard', 'lion', 'lizard', 'lobster', 'man', 'maple_tree', 'motorcycle', 'mountain', 'mouse',\n",
        "    'mushroom', 'oak_tree', 'orange', 'orchid', 'otter', 'palm_tree', 'pear', 'pickup_truck', 'pine_tree', 'plain',\n",
        "    'plate', 'poppy', 'porcupine', 'possum', 'rabbit', 'raccoon', 'ray', 'road', 'rocket', 'rose', 'sea', 'seal',\n",
        "    'shark', 'shrew', 'skunk', 'skyscraper', 'snail', 'snake', 'spider', 'squirrel', 'streetcar', 'sunflower', 'sweet_pepper',\n",
        "    'table', 'tank', 'telephone', 'television', 'tiger', 'tractor', 'train', 'trout', 'tulip', 'turtle',\n",
        "    'wardrobe', 'whale', 'willow_tree', 'wolf', 'woman', 'worm'\n",
        "]\n",
        "print(' '.join(f'{classes[labels[j]]:5s}' for j in range(args.batch_size)))"
      ]
    },
    {
      "cell_type": "code",
      "execution_count": 8,
      "metadata": {
        "colab": {
          "base_uri": "https://localhost:8080/"
        },
        "id": "Q_HkYpK86cyY",
        "outputId": "26576fae-be6e-44b7-c7e7-247fd7c7aa21"
      },
      "outputs": [
        {
          "output_type": "stream",
          "name": "stdout",
          "text": [
            "<class 'torch.Tensor'> torch.Size([1024, 3, 32, 32])\n",
            "<class 'torch.Tensor'> torch.Size([1024]) tensor([36, 10, 69,  ..., 62, 85, 75])\n"
          ]
        }
      ],
      "source": [
        "print(type(images), images.shape) #batchsize =4, channnel=3, widthxheight=32x32\n",
        "print(type(labels), labels.shape, labels)"
      ]
    },
    {
      "cell_type": "markdown",
      "metadata": {
        "id": "djc-x99gO5zv"
      },
      "source": [
        "Model define"
      ]
    },
    {
      "cell_type": "code",
      "source": [
        "def conv3x3(in_channels, out_channels, stride=1):\n",
        "  return nn.Conv2d(in_channels, out_channels, kernel_size=3, stride=stride, padding=1, bias=False)\n",
        "\n",
        "def conv1x1(in_channels, out_channels, stride=1):\n",
        "  return nn.Conv2d(in_channels, out_channels, kernel_size=1, stride=stride, bias=False)"
      ],
      "metadata": {
        "id": "72Niq_i7YMht"
      },
      "execution_count": 9,
      "outputs": []
    },
    {
      "cell_type": "code",
      "source": [
        "class BasicBlock(nn.Module):\n",
        "  expansion = 1\n",
        "  def __init__(self, in_channels, out_channels, stride=1, downsample=None):\n",
        "    super(BasicBlock, self).__init__()\n",
        "    self.conv1 = conv3x3(in_channels, out_channels, stride)\n",
        "    self.bn1 = nn.BatchNorm2d(out_channels)\n",
        "    self.relu = nn.ReLU(inplace=True)\n",
        "    self.conv2 = conv3x3(out_channels, out_channels)\n",
        "    self.bn2 = nn.BatchNorm2d(out_channels)\n",
        "    self.downsample = downsample\n",
        "    self.stride = stride\n",
        "\n",
        "  def forward(self, x):\n",
        "    identity = x\n",
        "\n",
        "    out = self.conv1(x)\n",
        "    out = self.bn1(out)\n",
        "    out = self.relu(out)\n",
        "\n",
        "    out = self.conv2(out)\n",
        "    out = self.bn2(out)\n",
        "\n",
        "    if self.downsample is not None:\n",
        "      identity = self.downsample(x)\n",
        "\n",
        "    out += identity\n",
        "    out = self.relu(out)\n",
        "\n",
        "    return out"
      ],
      "metadata": {
        "id": "Q2NyNojaZN_j"
      },
      "execution_count": 10,
      "outputs": []
    },
    {
      "cell_type": "code",
      "source": [
        "class BottleNeck(nn.Module):\n",
        "  expansion = 4\n",
        "  def __init__(self, in_channels, out_channels, stride=1, downsample=None):\n",
        "    super(BottleNeck, self).__init__()\n",
        "    self.conv1 = conv1x1(in_channels, out_channels)\n",
        "    self.bn1 = nn.BatchNorm2d(out_channels)\n",
        "    self.conv2 = conv3x3(out_channels, out_channels, stride)\n",
        "    self.bn2 = nn.BatchNorm2d(out_channels)\n",
        "    self.conv3 = conv1x1(out_channels, out_channels*self.expansion)\n",
        "    self.bn3 = nn.BatchNorm2d(out_channels*self.expansion)\n",
        "    self.relu = nn.ReLU()\n",
        "    self.downsample = downsample\n",
        "    self.stride = stride\n",
        "\n",
        "  def forward(self, x):\n",
        "    identity = x\n",
        "    out = self.conv1(x)\n",
        "    out = self.bn1(out)\n",
        "    out = self.relu(out)\n",
        "    out = self.conv2(out)\n",
        "    out = self.bn2(out)\n",
        "    out = self.relu(out)\n",
        "    out = self.conv3(out)\n",
        "    out = self.bn3(out)\n",
        "    if self.downsample is not None:\n",
        "      identity = self.downsample(x)\n",
        "    out += identity\n",
        "    out = self.relu(out)\n",
        "    return out"
      ],
      "metadata": {
        "id": "CN4mPLu-azss"
      },
      "execution_count": 44,
      "outputs": []
    },
    {
      "cell_type": "code",
      "source": [
        "class ResNetModel(nn.Module):\n",
        "    def __init__(self, block, layers, num_classes=1000, zero_init_residual=True):\n",
        "        super(ResNetModel, self).__init__()\n",
        "\n",
        "        self.in_channels = 64  # 초기 입력 채널\n",
        "\n",
        "        # 첫 번째 큰 7x7 Conv 레이어 (stride 2, padding 3으로 설정)\n",
        "        self.conv1 = nn.Conv2d(3, self.in_channels, kernel_size=7, stride=2, padding=3, bias=False)\n",
        "        self.bn1 = nn.BatchNorm2d(self.in_channels)\n",
        "        self.relu = nn.ReLU(inplace=True)\n",
        "        self.maxpool = nn.MaxPool2d(kernel_size=3, stride=2, padding=1)\n",
        "\n",
        "        # ResNet block 쌓기\n",
        "        self.layer1 = self._make_layer(block, 64, layers[0])\n",
        "        self.layer2 = self._make_layer(block, 128, layers[1], stride=2)\n",
        "        self.layer3 = self._make_layer(block, 256, layers[2], stride=2)\n",
        "        self.layer4 = self._make_layer(block, 512, layers[3], stride=2)\n",
        "\n",
        "        # Average pooling 후 fully connected layer\n",
        "        self.avgpool = nn.AdaptiveAvgPool2d((1, 1))\n",
        "        self.fc = nn.Sequential(\n",
        "            nn.Dropout(0.5),  # 50% Dropout 추가\n",
        "            nn.Linear(512 * block.expansion, num_classes)\n",
        "        )\n",
        "\n",
        "        # Zero-initialize the last BN in each residual block (if zero_init_residual=True)\n",
        "        if zero_init_residual:\n",
        "            for m in self.modules():\n",
        "                if isinstance(m, BottleNeck):\n",
        "                    nn.init.constant_(m.bn3.weight, 0)\n",
        "                elif isinstance(m, BasicBlock):\n",
        "                    nn.init.constant_(m.bn2.weight, 0)\n",
        "\n",
        "    def _make_layer(self, block, out_channels, blocks, stride=1):\n",
        "        \"\"\" ResNet block을 쌓는 함수 \"\"\"\n",
        "        downsample = None\n",
        "        # 채널을 확장하거나 stride가 2인 경우 downsample 필요\n",
        "        if stride != 1 or self.in_channels != out_channels * block.expansion:\n",
        "            downsample = nn.Sequential(\n",
        "                conv1x1(self.in_channels, out_channels * block.expansion, stride),\n",
        "                nn.BatchNorm2d(out_channels * block.expansion),\n",
        "            )\n",
        "\n",
        "        layers = []\n",
        "        # 첫 번째 블록에 대해 downsample 적용 (필요시)\n",
        "        layers.append(block(self.in_channels, out_channels, stride, downsample))\n",
        "        self.in_channels = out_channels * block.expansion  # 채널을 업데이트\n",
        "\n",
        "        # 나머지 블록들\n",
        "        for _ in range(1, blocks):\n",
        "            layers.append(block(self.in_channels, out_channels))\n",
        "\n",
        "        return nn.Sequential(*layers)\n",
        "\n",
        "    def forward(self, x):\n",
        "        x = self.conv1(x)\n",
        "        x = self.bn1(x)\n",
        "        x = self.relu(x)\n",
        "        x = self.maxpool(x)\n",
        "\n",
        "        x = self.layer1(x)\n",
        "        x = self.layer2(x)\n",
        "        x = self.layer3(x)\n",
        "        x = self.layer4(x)\n",
        "\n",
        "        x = self.avgpool(x)\n",
        "        x = torch.flatten(x, 1)  # Flatten to (batch_size, 512 * block.expansion)\n",
        "        x = self.fc(x)\n",
        "\n",
        "        return x\n",
        "\n",
        "# Example of building ResNet variants\n",
        "def resnet18(num_classes=1000):\n",
        "    return ResNetModel(BasicBlock, [2, 2, 2, 2], num_classes)\n",
        "\n",
        "def resnet34(num_classes=1000):\n",
        "    return ResNetModel(BasicBlock, [3, 4, 6, 3], num_classes)\n",
        "\n",
        "def resnet50(num_classes=1000):\n",
        "    return ResNetModel(BottleNeck, [3, 4, 6, 3], num_classes)\n",
        "\n",
        "def resnet101(num_classes=1000):\n",
        "    return ResNetModel(BottleNeck, [3, 4, 23, 3], num_classes)\n",
        "\n",
        "def resnet152(num_classes=1000):\n",
        "    return ResNetModel(BottleNeck, [3, 8, 36, 3], num_classes)\n"
      ],
      "metadata": {
        "id": "asn08X_dhWY1"
      },
      "execution_count": 41,
      "outputs": []
    },
    {
      "cell_type": "markdown",
      "metadata": {
        "id": "gRTfuxuJO5zw"
      },
      "source": [
        "Loss and optimizer"
      ]
    },
    {
      "cell_type": "markdown",
      "metadata": {
        "id": "T4iey1K-O5zw"
      },
      "source": [
        "Experiment"
      ]
    },
    {
      "cell_type": "code",
      "execution_count": 13,
      "metadata": {
        "id": "eGPfl462O5zw"
      },
      "outputs": [],
      "source": [
        "def train(model : nn.Module, loader:torch.utils.data.DataLoader, criterion:nn.Module, optimizer:optim.Optimizer):\n",
        "    running_loss=0\n",
        "    total=0\n",
        "    correct = 0\n",
        "    model.train()\n",
        "    for inputs, labels in loader:\n",
        "        inputs, labels = inputs.to(args.device), labels.to(args.device)\n",
        "\n",
        "        optimizer.zero_grad()\n",
        "        outputs = model.forward(inputs)\n",
        "        loss = criterion(outputs, labels)\n",
        "        loss.backward()\n",
        "        optimizer.step()\n",
        "\n",
        "        running_loss += loss.item()\n",
        "\n",
        "        # 정확도 계산\n",
        "        _, predicted = torch.max(outputs, 1)\n",
        "        total += labels.size(0)\n",
        "        correct += (predicted == labels).sum().item()\n",
        "\n",
        "    loss = running_loss/len(loader)\n",
        "    accuracy = 100. * correct / total\n",
        "    return loss, accuracy\n",
        "\n",
        "#model = resnet18(num_classes=100)\n",
        "#model.to(args.device)\n",
        "#criterion = nn.CrossEntropyLoss()\n",
        "#optimizer = optim.Adam(model.parameters(), lr=args.lr, weight_decay=args.weight_decay)\n",
        "#loss, accuracy = train(model, trainLoader, criterion, optimizer)\n",
        "#print(loss, accuracy)"
      ]
    },
    {
      "cell_type": "code",
      "execution_count": 14,
      "metadata": {
        "id": "uYh_4e-zO5zx"
      },
      "outputs": [],
      "source": [
        "def evaluate(model : nn.Module, loader:torch.utils.data.DataLoader, criterion:nn.Module):\n",
        "    val_loss=0\n",
        "    total=0\n",
        "    correct = 0\n",
        "    model.eval()\n",
        "\n",
        "    with torch.no_grad():\n",
        "        for inputs, labels in loader:\n",
        "            inputs, labels = inputs.to(args.device), labels.to(args.device)\n",
        "\n",
        "            outputs = model.forward(inputs)\n",
        "            loss = criterion(outputs, labels)\n",
        "\n",
        "            val_loss += loss.item()\n",
        "\n",
        "            # 정확도 계산\n",
        "            _, predicted = torch.max(outputs, 1)\n",
        "            total += labels.size(0)\n",
        "            correct += (predicted == labels).sum().item()\n",
        "\n",
        "    loss = val_loss/len(loader)\n",
        "    accuracy = 100. * correct / total\n",
        "    return loss, accuracy\n",
        "\n",
        "#loss, accuracy = train(model, validateLoader, criterion)\n",
        "#print(loss, accuracy)"
      ]
    },
    {
      "cell_type": "code",
      "execution_count": 40,
      "metadata": {
        "id": "HLHcLXMvO5zx"
      },
      "outputs": [],
      "source": [
        "def experiment():\n",
        "    if(args.model == 'resnet18'):\n",
        "      model = resnet18(num_classes=100)\n",
        "    elif(args.model == 'resnet34'):\n",
        "      model = resnet34(num_classes=100)\n",
        "    elif(args.model == 'resnet50'):\n",
        "      model = resnet50(num_classes=100)\n",
        "    elif(args.model == 'resnet101'):\n",
        "      model = resnet101(num_classes=100)\n",
        "    elif(args.model == 'resnet152'):\n",
        "      model = resnet152(num_classes=100)\n",
        "    model.to(args.device)\n",
        "    criterion = nn.CrossEntropyLoss()\n",
        "    if(args.optimizer == 'adam'):\n",
        "      optimizer = optim.Adam(model.parameters(), lr=args.lr, weight_decay=args.weight_decay)\n",
        "    elif(args.optimizer == 'sgd'):\n",
        "      optimizer = optim.SGD(model.parameters(), lr=args.lr, momentum=args.momentum, weight_decay=args.weight_decay)\n",
        "    else:\n",
        "      print(\"invalid optimizer\")\n",
        "\n",
        "    scheduler = optim.lr_scheduler.ReduceLROnPlateau(optimizer, mode='min', factor=0.1, patience=5)\n",
        "\n",
        "    for epoch in range(args.epoch):\n",
        "        trainLoss, trainAccuracy = train(model, trainLoader, criterion, optimizer)\n",
        "        run[\"metrics/train_loss\"].log(trainLoss)\n",
        "        run[\"metrics/train_acc\"].log(trainAccuracy)\n",
        "        valLoss, valAccuracy = evaluate(model, validateLoader, criterion)\n",
        "        run[\"metrics/val_loss\"].log(valLoss)\n",
        "        run[\"metrics/val_acc\"].log(valAccuracy)\n",
        "\n",
        "        scheduler.step(valLoss)\n",
        "        current_lr = optimizer.param_groups[0]['lr']\n",
        "        print(f\"[{epoch}] trainLoss:{trainLoss:.4f}, trainAcc:{trainAccuracy}, valLoss:{valLoss:.4f}, valAcc:{valAccuracy}, lr:{current_lr}\")\n",
        "\n",
        "    _, testAccuracy = evaluate(model, testLoader, criterion)\n",
        "    return model, testAccuracy\n",
        "\n",
        "#experiment()\n"
      ]
    },
    {
      "cell_type": "code",
      "source": [
        "args.lr = 0.1\n",
        "args.weight_decay = 5e-4\n",
        "args.optimizer = 'sgd'\n",
        "args.model = 'resnet50'\n",
        "args.epoch = 50\n",
        "params = vars(args)\n",
        "\n",
        "# with 블록을 사용하여 자동으로 run.stop() 호출\n",
        "with neptune.init_run(\n",
        "    project=\"sy-hwang/simple-CNN\",\n",
        "    api_token=\"eyJhcGlfYWRkcmVzcyI6Imh0dHBzOi8vYXBwLm5lcHR1bmUuYWkiLCJhcGlfdXJsIjoiaHR0cHM6Ly9hcHAubmVwdHVuZS5haSIsImFwaV9rZXkiOiIyYzQ4YjZkMy04ODc2LTQ3NzItODY1Zi04MWVhMzdhZmJmNTEifQ==\",\n",
        "    name=\"RESNET50Model with SGD Scheduler\",\n",
        ") as run:  # with 블록을 사용\n",
        "    run[\"parameters\"] = params\n",
        "    model, acc = experiment()\n",
        "    run[\"test_acc\"] = acc\n",
        "    run[\"model/CNN\"] = neptune.types.File.as_pickle(model)"
      ],
      "metadata": {
        "id": "2D0MukyRNza9",
        "colab": {
          "base_uri": "https://localhost:8080/",
          "height": 1000
        },
        "outputId": "40442bc1-23de-492e-eb69-c94f7cabb9cd"
      },
      "execution_count": 47,
      "outputs": [
        {
          "output_type": "stream",
          "name": "stdout",
          "text": [
            "[neptune] [info   ] Neptune initialized. Open in the app: https://app.neptune.ai/sy-hwang/simple-CNN/e/SIM-44\n",
            "[0] trainLoss:4.5860, trainAcc:3.1925, valLoss:4.9660, valAcc:2.92, lr:0.1\n",
            "[1] trainLoss:4.4098, trainAcc:5.2775, valLoss:4.1858, valAcc:7.3, lr:0.1\n",
            "[2] trainLoss:3.8728, trainAcc:11.105, valLoss:3.6948, valAcc:14.23, lr:0.1\n",
            "[3] trainLoss:3.5351, trainAcc:16.7975, valLoss:3.9439, valAcc:10.8, lr:0.1\n",
            "[4] trainLoss:3.4232, trainAcc:17.7425, valLoss:3.2612, valAcc:20.61, lr:0.1\n",
            "[5] trainLoss:3.0850, trainAcc:23.4975, valLoss:3.1585, valAcc:23.02, lr:0.1\n",
            "[6] trainLoss:2.8644, trainAcc:27.5675, valLoss:3.3804, valAcc:19.2, lr:0.1\n",
            "[7] trainLoss:2.8091, trainAcc:28.8625, valLoss:2.7704, valAcc:30.57, lr:0.1\n",
            "[8] trainLoss:2.4865, trainAcc:35.4575, valLoss:2.8750, valAcc:28.77, lr:0.1\n",
            "[9] trainLoss:2.3804, trainAcc:37.3225, valLoss:2.7575, valAcc:30.85, lr:0.1\n",
            "[10] trainLoss:2.1490, trainAcc:41.8025, valLoss:2.6518, valAcc:33.42, lr:0.1\n",
            "[11] trainLoss:1.9176, trainAcc:47.1675, valLoss:2.8581, valAcc:32.0, lr:0.1\n",
            "[12] trainLoss:1.7617, trainAcc:50.83, valLoss:2.7160, valAcc:35.26, lr:0.1\n",
            "[13] trainLoss:1.5987, trainAcc:54.495, valLoss:2.6522, valAcc:36.14, lr:0.1\n",
            "[14] trainLoss:1.3704, trainAcc:60.43, valLoss:2.8866, valAcc:33.76, lr:0.1\n",
            "[15] trainLoss:1.1990, trainAcc:64.7625, valLoss:2.8351, valAcc:35.53, lr:0.1\n",
            "[16] trainLoss:1.1352, trainAcc:66.1475, valLoss:2.7970, valAcc:36.11, lr:0.010000000000000002\n",
            "[17] trainLoss:0.5943, trainAcc:83.4725, valLoss:2.4585, valAcc:42.58, lr:0.010000000000000002\n",
            "[18] trainLoss:0.3757, trainAcc:90.9425, valLoss:2.4681, valAcc:42.99, lr:0.010000000000000002\n",
            "[19] trainLoss:0.2935, trainAcc:93.5125, valLoss:2.5103, valAcc:42.63, lr:0.010000000000000002\n",
            "[20] trainLoss:0.2405, trainAcc:95.215, valLoss:2.5361, valAcc:42.62, lr:0.010000000000000002\n",
            "[21] trainLoss:0.1953, trainAcc:96.5725, valLoss:2.5681, valAcc:42.47, lr:0.010000000000000002\n",
            "[22] trainLoss:0.1643, trainAcc:97.64, valLoss:2.6083, valAcc:42.33, lr:0.010000000000000002\n",
            "[23] trainLoss:0.1386, trainAcc:98.1, valLoss:2.6412, valAcc:42.16, lr:0.0010000000000000002\n",
            "[24] trainLoss:0.1148, trainAcc:98.755, valLoss:2.6477, valAcc:42.32, lr:0.0010000000000000002\n",
            "[25] trainLoss:0.1134, trainAcc:98.9025, valLoss:2.6477, valAcc:42.2, lr:0.0010000000000000002\n",
            "[26] trainLoss:0.1102, trainAcc:98.9, valLoss:2.6571, valAcc:42.23, lr:0.0010000000000000002\n",
            "[27] trainLoss:0.1096, trainAcc:98.9075, valLoss:2.6610, valAcc:42.28, lr:0.0010000000000000002\n",
            "[28] trainLoss:0.1075, trainAcc:98.9425, valLoss:2.6607, valAcc:42.47, lr:0.0010000000000000002\n",
            "[29] trainLoss:0.1039, trainAcc:99.085, valLoss:2.6634, valAcc:42.41, lr:0.00010000000000000003\n",
            "[30] trainLoss:0.1043, trainAcc:99.0725, valLoss:2.6659, valAcc:42.18, lr:0.00010000000000000003\n",
            "[31] trainLoss:0.1026, trainAcc:99.1325, valLoss:2.6672, valAcc:42.32, lr:0.00010000000000000003\n",
            "[32] trainLoss:0.1014, trainAcc:99.1325, valLoss:2.6647, valAcc:42.38, lr:0.00010000000000000003\n",
            "[neptune] [info   ] Shutting down background jobs, please wait a moment...\n",
            "[neptune] [info   ] Done!\n",
            "[neptune] [info   ] Waiting for the remaining 2 operations to synchronize with Neptune. Do not kill this process.\n"
          ]
        },
        {
          "output_type": "stream",
          "name": "stderr",
          "text": [
            "Traceback (most recent call last):\n",
            "  File \"<ipython-input-47-32de7e41d8b1>\", line 15, in <cell line: 9>\n",
            "    model, acc = experiment()\n",
            "  File \"<ipython-input-40-4dd3f03af358>\", line 27, in experiment\n",
            "    valLoss, valAccuracy = evaluate(model, validateLoader, criterion)\n",
            "  File \"<ipython-input-14-47f0d17095bd>\", line 14, in evaluate\n",
            "    val_loss += loss.item()\n",
            "KeyboardInterrupt\n"
          ]
        },
        {
          "output_type": "stream",
          "name": "stdout",
          "text": [
            "[neptune] [info   ] All 2 operations synced, thanks for waiting!\n",
            "[neptune] [info   ] Explore the metadata in the Neptune app: https://app.neptune.ai/sy-hwang/simple-CNN/e/SIM-44/metadata\n"
          ]
        },
        {
          "output_type": "error",
          "ename": "KeyboardInterrupt",
          "evalue": "",
          "traceback": [
            "\u001b[0;31m---------------------------------------------------------------------------\u001b[0m",
            "\u001b[0;31mKeyboardInterrupt\u001b[0m                         Traceback (most recent call last)",
            "\u001b[0;32m<ipython-input-47-32de7e41d8b1>\u001b[0m in \u001b[0;36m<cell line: 9>\u001b[0;34m()\u001b[0m\n\u001b[1;32m     13\u001b[0m ) as run:  # with 블록을 사용\n\u001b[1;32m     14\u001b[0m     \u001b[0mrun\u001b[0m\u001b[0;34m[\u001b[0m\u001b[0;34m\"parameters\"\u001b[0m\u001b[0;34m]\u001b[0m \u001b[0;34m=\u001b[0m \u001b[0mparams\u001b[0m\u001b[0;34m\u001b[0m\u001b[0;34m\u001b[0m\u001b[0m\n\u001b[0;32m---> 15\u001b[0;31m     \u001b[0mmodel\u001b[0m\u001b[0;34m,\u001b[0m \u001b[0macc\u001b[0m \u001b[0;34m=\u001b[0m \u001b[0mexperiment\u001b[0m\u001b[0;34m(\u001b[0m\u001b[0;34m)\u001b[0m\u001b[0;34m\u001b[0m\u001b[0;34m\u001b[0m\u001b[0m\n\u001b[0m\u001b[1;32m     16\u001b[0m     \u001b[0mrun\u001b[0m\u001b[0;34m[\u001b[0m\u001b[0;34m\"test_acc\"\u001b[0m\u001b[0;34m]\u001b[0m \u001b[0;34m=\u001b[0m \u001b[0macc\u001b[0m\u001b[0;34m\u001b[0m\u001b[0;34m\u001b[0m\u001b[0m\n\u001b[1;32m     17\u001b[0m     \u001b[0mrun\u001b[0m\u001b[0;34m[\u001b[0m\u001b[0;34m\"model/CNN\"\u001b[0m\u001b[0;34m]\u001b[0m \u001b[0;34m=\u001b[0m \u001b[0mneptune\u001b[0m\u001b[0;34m.\u001b[0m\u001b[0mtypes\u001b[0m\u001b[0;34m.\u001b[0m\u001b[0mFile\u001b[0m\u001b[0;34m.\u001b[0m\u001b[0mas_pickle\u001b[0m\u001b[0;34m(\u001b[0m\u001b[0mmodel\u001b[0m\u001b[0;34m)\u001b[0m\u001b[0;34m\u001b[0m\u001b[0;34m\u001b[0m\u001b[0m\n",
            "\u001b[0;32m<ipython-input-40-4dd3f03af358>\u001b[0m in \u001b[0;36mexperiment\u001b[0;34m()\u001b[0m\n\u001b[1;32m     25\u001b[0m         \u001b[0mrun\u001b[0m\u001b[0;34m[\u001b[0m\u001b[0;34m\"metrics/train_loss\"\u001b[0m\u001b[0;34m]\u001b[0m\u001b[0;34m.\u001b[0m\u001b[0mlog\u001b[0m\u001b[0;34m(\u001b[0m\u001b[0mtrainLoss\u001b[0m\u001b[0;34m)\u001b[0m\u001b[0;34m\u001b[0m\u001b[0;34m\u001b[0m\u001b[0m\n\u001b[1;32m     26\u001b[0m         \u001b[0mrun\u001b[0m\u001b[0;34m[\u001b[0m\u001b[0;34m\"metrics/train_acc\"\u001b[0m\u001b[0;34m]\u001b[0m\u001b[0;34m.\u001b[0m\u001b[0mlog\u001b[0m\u001b[0;34m(\u001b[0m\u001b[0mtrainAccuracy\u001b[0m\u001b[0;34m)\u001b[0m\u001b[0;34m\u001b[0m\u001b[0;34m\u001b[0m\u001b[0m\n\u001b[0;32m---> 27\u001b[0;31m         \u001b[0mvalLoss\u001b[0m\u001b[0;34m,\u001b[0m \u001b[0mvalAccuracy\u001b[0m \u001b[0;34m=\u001b[0m \u001b[0mevaluate\u001b[0m\u001b[0;34m(\u001b[0m\u001b[0mmodel\u001b[0m\u001b[0;34m,\u001b[0m \u001b[0mvalidateLoader\u001b[0m\u001b[0;34m,\u001b[0m \u001b[0mcriterion\u001b[0m\u001b[0;34m)\u001b[0m\u001b[0;34m\u001b[0m\u001b[0;34m\u001b[0m\u001b[0m\n\u001b[0m\u001b[1;32m     28\u001b[0m         \u001b[0mrun\u001b[0m\u001b[0;34m[\u001b[0m\u001b[0;34m\"metrics/val_loss\"\u001b[0m\u001b[0;34m]\u001b[0m\u001b[0;34m.\u001b[0m\u001b[0mlog\u001b[0m\u001b[0;34m(\u001b[0m\u001b[0mvalLoss\u001b[0m\u001b[0;34m)\u001b[0m\u001b[0;34m\u001b[0m\u001b[0;34m\u001b[0m\u001b[0m\n\u001b[1;32m     29\u001b[0m         \u001b[0mrun\u001b[0m\u001b[0;34m[\u001b[0m\u001b[0;34m\"metrics/val_acc\"\u001b[0m\u001b[0;34m]\u001b[0m\u001b[0;34m.\u001b[0m\u001b[0mlog\u001b[0m\u001b[0;34m(\u001b[0m\u001b[0mvalAccuracy\u001b[0m\u001b[0;34m)\u001b[0m\u001b[0;34m\u001b[0m\u001b[0;34m\u001b[0m\u001b[0m\n",
            "\u001b[0;32m<ipython-input-14-47f0d17095bd>\u001b[0m in \u001b[0;36mevaluate\u001b[0;34m(model, loader, criterion)\u001b[0m\n\u001b[1;32m     12\u001b[0m             \u001b[0mloss\u001b[0m \u001b[0;34m=\u001b[0m \u001b[0mcriterion\u001b[0m\u001b[0;34m(\u001b[0m\u001b[0moutputs\u001b[0m\u001b[0;34m,\u001b[0m \u001b[0mlabels\u001b[0m\u001b[0;34m)\u001b[0m\u001b[0;34m\u001b[0m\u001b[0;34m\u001b[0m\u001b[0m\n\u001b[1;32m     13\u001b[0m \u001b[0;34m\u001b[0m\u001b[0m\n\u001b[0;32m---> 14\u001b[0;31m             \u001b[0mval_loss\u001b[0m \u001b[0;34m+=\u001b[0m \u001b[0mloss\u001b[0m\u001b[0;34m.\u001b[0m\u001b[0mitem\u001b[0m\u001b[0;34m(\u001b[0m\u001b[0;34m)\u001b[0m\u001b[0;34m\u001b[0m\u001b[0;34m\u001b[0m\u001b[0m\n\u001b[0m\u001b[1;32m     15\u001b[0m \u001b[0;34m\u001b[0m\u001b[0m\n\u001b[1;32m     16\u001b[0m             \u001b[0;31m# 정확도 계산\u001b[0m\u001b[0;34m\u001b[0m\u001b[0;34m\u001b[0m\u001b[0m\n",
            "\u001b[0;31mKeyboardInterrupt\u001b[0m: "
          ]
        }
      ]
    },
    {
      "cell_type": "code",
      "source": [
        "run.stop()"
      ],
      "metadata": {
        "id": "k90muCVLqDwE",
        "colab": {
          "base_uri": "https://localhost:8080/"
        },
        "outputId": "bca47b81-6a9a-4d96-e017-8bd19fb7abe8"
      },
      "execution_count": 36,
      "outputs": [
        {
          "output_type": "stream",
          "name": "stdout",
          "text": [
            "[neptune] [info   ] Shutting down background jobs, please wait a moment...\n",
            "[neptune] [info   ] Done!\n",
            "[neptune] [info   ] All 0 operations synced, thanks for waiting!\n",
            "[neptune] [info   ] Explore the metadata in the Neptune app: https://app.neptune.ai/sy-hwang/simple-CNN/e/SIM-38/metadata\n"
          ]
        }
      ]
    },
    {
      "cell_type": "code",
      "source": [],
      "metadata": {
        "id": "KIui_IPMsYZ7"
      },
      "execution_count": null,
      "outputs": []
    }
  ],
  "metadata": {
    "accelerator": "GPU",
    "colab": {
      "gpuType": "T4",
      "provenance": [],
      "include_colab_link": true
    },
    "kernelspec": {
      "display_name": "Python 3",
      "name": "python3"
    },
    "language_info": {
      "codemirror_mode": {
        "name": "ipython",
        "version": 3
      },
      "file_extension": ".py",
      "mimetype": "text/x-python",
      "name": "python",
      "nbconvert_exporter": "python",
      "pygments_lexer": "ipython3",
      "version": "3.8.0"
    }
  },
  "nbformat": 4,
  "nbformat_minor": 0
}