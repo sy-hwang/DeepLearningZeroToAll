{
  "cells": [
    {
      "cell_type": "markdown",
      "metadata": {
        "colab_type": "text",
        "id": "view-in-github"
      },
      "source": [
        "<a href=\"https://colab.research.google.com/github/sy-hwang/DeepLearningZeroToAll/blob/master/standalone/lab_04_cifar10_classifier.ipynb\" target=\"_parent\"><img src=\"https://colab.research.google.com/assets/colab-badge.svg\" alt=\"Open In Colab\"/></a>"
      ]
    },
    {
      "cell_type": "markdown",
      "metadata": {},
      "source": [
        "Install pytorch for Google Colab"
      ]
    },
    {
      "cell_type": "code",
      "execution_count": 72,
      "metadata": {
        "colab": {
          "base_uri": "https://localhost:8080/"
        },
        "id": "K0OjXCwd5Xn-",
        "outputId": "c71d7abe-0f18-40cc-baa3-6931ba5fab3c"
      },
      "outputs": [
        {
          "data": {
            "text/plain": [
              "'\\n!pip install -q torch==1.0.0 torchvision\\nimport torch\\nprint(torch.__version__)\\n'"
            ]
          },
          "execution_count": 72,
          "metadata": {},
          "output_type": "execute_result"
        }
      ],
      "source": [
        "'''\n",
        "!pip install -q torch==1.0.0 torchvision\n",
        "import torch\n",
        "print(torch.__version__)\n",
        "'''"
      ]
    },
    {
      "cell_type": "markdown",
      "metadata": {},
      "source": [
        "IMPORT"
      ]
    },
    {
      "cell_type": "code",
      "execution_count": 73,
      "metadata": {
        "id": "L3671PS25jo_"
      },
      "outputs": [],
      "source": [
        "import torch\n",
        "import torchvision\n",
        "import torchvision.transforms as transforms\n",
        "import matplotlib.pyplot as plt\n",
        "import numpy as np\n",
        "import argparse\n",
        "import torch.optim as optim\n",
        "import torch.nn as nn\n",
        "import torch.utils.data.dataloader"
      ]
    },
    {
      "cell_type": "markdown",
      "metadata": {},
      "source": [
        "Hyperparameter"
      ]
    },
    {
      "cell_type": "code",
      "execution_count": 74,
      "metadata": {},
      "outputs": [
        {
          "name": "stdout",
          "output_type": "stream",
          "text": [
            "Namespace(act='relu', batch_size=4, device=device(type='cpu'), epoch=5, hidden_dim=100, hidden_layer=3, in_dim=3072, lr=0.001, momentum=0.9, num_workers=2, out_dim=10, trainsize=0.8)\n"
          ]
        }
      ],
      "source": [
        "parser = argparse.ArgumentParser()\n",
        "args = parser.parse_args(\"\")\n",
        "args.lr = 0.001\n",
        "args.trainsize = 0.8\n",
        "args.num_workers = 2\n",
        "args.batch_size = 4\n",
        "args.in_dim = 32*32*3\n",
        "args.out_dim=10\n",
        "args.hidden_dim=100\n",
        "args.hidden_layer =3\n",
        "args.act = 'relu'\n",
        "args.device = torch.device(\"cuda:0\" if torch.cuda.is_available() else \"cpu\")\n",
        "args.momentum = 0.9\n",
        "args.epoch=5\n",
        "print(args)\n",
        "\n",
        "seed = 123\n",
        "np.random.seed(seed)\n",
        "torch.manual_seed(seed)\n",
        "torch.cuda.manual_seed(seed)"
      ]
    },
    {
      "cell_type": "markdown",
      "metadata": {},
      "source": [
        "Data generation"
      ]
    },
    {
      "cell_type": "code",
      "execution_count": 75,
      "metadata": {},
      "outputs": [
        {
          "name": "stdout",
          "output_type": "stream",
          "text": [
            "Files already downloaded and verified\n",
            "Files already downloaded and verified\n",
            "set Nums : (40000, 10000, 10000)\n",
            "batchSize: 4 / num Batches : 10000, 2500, 2500\n"
          ]
        }
      ],
      "source": [
        "transform = transforms.Compose(\n",
        "    [transforms.ToTensor(),\n",
        "     transforms.Normalize((0.5, 0.5, 0.5), (0.5, 0.5, 0.5))]\n",
        ")\n",
        "trainSet = torchvision.datasets.CIFAR10(root='./data', train=True, download=True, transform=transform)\n",
        "trainSize = int(args.trainsize*len(trainSet))\n",
        "validateSize = len(trainSet)-trainSize\n",
        "trainSet, validateSet = torch.utils.data.random_split(trainSet, [trainSize, validateSize])\n",
        "testSet = torchvision.datasets.CIFAR10(root='./data', train=False, download=True, transform=transform)\n",
        "\n",
        "trainLoader = torch.utils.data.DataLoader(trainSet, batch_size=args.batch_size, shuffle=True, num_workers=args.num_workers)\n",
        "validateLoader = torch.utils.data.DataLoader(validateSet, batch_size=args.batch_size, shuffle=False, num_workers=args.num_workers)\n",
        "testLoader = torch.utils.data.DataLoader(testSet, batch_size=args.batch_size, shuffle=False, num_workers=args.num_workers)\n",
        "\n",
        "print(f\"set Nums : {len(trainSet), len(validateSet), len(testSet)}\")\n",
        "print(f\"batchSize: {args.batch_size} / num Batches : {len(trainSet)//args.batch_size}, {len(validateSet)//args.batch_size}, {len(testSet)//args.batch_size}\")"
      ]
    },
    {
      "cell_type": "code",
      "execution_count": 76,
      "metadata": {
        "colab": {
          "base_uri": "https://localhost:8080/",
          "height": 211
        },
        "id": "N-aAuPZ650KZ",
        "outputId": "0fd7fe8c-4d70-4502-a783-40a638b011e5"
      },
      "outputs": [
        {
          "data": {
            "image/png": "[encoded data removed]",
            "text/plain": [
              "<Figure size 640x480 with 1 Axes>"
            ]
          },
          "metadata": {},
          "output_type": "display_data"
        },
        {
          "name": "stdout",
          "output_type": "stream",
          "text": [
            "dog   cat   frog  dog  \n"
          ]
        }
      ],
      "source": [
        "# 이미지를 보여주기 위한 함수\n",
        "\n",
        "def imshow(img):\n",
        "    img = img / 2 + 0.5     # unnormalize\n",
        "    npimg = img.numpy()\n",
        "    plt.imshow(np.transpose(npimg, (1, 2, 0)))\n",
        "    plt.show()\n",
        "\n",
        "\n",
        "# 학습용 이미지를 무작위로 가져오기\n",
        "dataiter = iter(trainLoader)\n",
        "images, labels = next(dataiter)\n",
        "\n",
        "# 이미지 보여주기\n",
        "imshow(torchvision.utils.make_grid(images))\n",
        "classes = ('plane', 'car', 'bird', 'cat', 'deer', 'dog', 'frog', 'horse', 'ship', 'truck')\n",
        "print(' '.join(f'{classes[labels[j]]:5s}' for j in range(args.batch_size)))"
      ]
    },
    {
      "cell_type": "code",
      "execution_count": 77,
      "metadata": {
        "colab": {
          "base_uri": "https://localhost:8080/"
        },
        "id": "Q_HkYpK86cyY",
        "outputId": "9d56b6fd-8eef-4bd9-d2bc-495d6b7689b0"
      },
      "outputs": [
        {
          "name": "stdout",
          "output_type": "stream",
          "text": [
            "<class 'torch.Tensor'> torch.Size([4, 3, 32, 32])\n",
            "<class 'torch.Tensor'> torch.Size([4]) tensor([5, 3, 6, 5])\n"
          ]
        }
      ],
      "source": [
        "print(type(images), images.shape) #batchsize =4, channnel=3, widthxheight=32x32\n",
        "print(type(labels), labels.shape, labels)"
      ]
    },
    {
      "cell_type": "markdown",
      "metadata": {},
      "source": [
        "Model define"
      ]
    },
    {
      "cell_type": "code",
      "execution_count": 78,
      "metadata": {
        "colab": {
          "base_uri": "https://localhost:8080/"
        },
        "id": "KojywaXt6pEs",
        "outputId": "791fc938-79eb-4af9-aca9-e86192ee64c8"
      },
      "outputs": [],
      "source": [
        "class MLP(nn.Module):\n",
        "  def __init__(self, in_dim, out_dim, hidden_dim, hidden_layer, act):\n",
        "    super(MLP, self).__init__()\n",
        "    self.in_dim = in_dim\n",
        "    self.out_dim = out_dim\n",
        "    self.hidden_dim = hidden_dim\n",
        "    self.hidden_layer = hidden_layer\n",
        "\n",
        "    self.layers = nn.ModuleList()\n",
        "    self.layers.append(nn.Linear(in_dim, hidden_dim))\n",
        "    for _ in range(hidden_layer-1):\n",
        "      self.layers.append(nn.Linear(hidden_dim, hidden_dim))\n",
        "    self.outlayer = nn.Linear(hidden_dim, out_dim)\n",
        "\n",
        "    if(act == 'relu'):\n",
        "      self.act = nn.ReLU()\n",
        "    elif(act == 'sigmoid'):\n",
        "      self.act = nn.Sigmoid()\n",
        "    elif(act == 'tanh'):\n",
        "      self.act = nn.Tanh()\n",
        "    else:\n",
        "      self.act = nn.ReLU()\n",
        "\n",
        "  def forward(self, x):\n",
        "    for layer in self.layers:\n",
        "      x = layer(x)\n",
        "      x = self.act(x)\n",
        "    x = self.outlayer(x)\n",
        "    return x\n",
        "\n",
        "#model = MLP(args.in_dim, args.out_dim, args.hidden_dim, args.hidden_layer, args.act)\n",
        "#model.to(args.device)\n",
        "#print(model)"
      ]
    },
    {
      "cell_type": "markdown",
      "metadata": {},
      "source": [
        "Loss and optimizer"
      ]
    },
    {
      "cell_type": "code",
      "execution_count": 79,
      "metadata": {
        "id": "WycenmIU-PKf"
      },
      "outputs": [],
      "source": [
        "criterion = nn.CrossEntropyLoss()\n",
        "optimizer = optim.SGD(model.parameters(), lr=args.lr, momentum=args.momentum)"
      ]
    },
    {
      "cell_type": "markdown",
      "metadata": {},
      "source": [
        "Experiment"
      ]
    },
    {
      "cell_type": "code",
      "execution_count": 80,
      "metadata": {},
      "outputs": [],
      "source": [
        "def train(model : MLP, loader:torch.utils.data.DataLoader, criterion:nn.Module, optimizer:optim.Optimizer):\n",
        "    running_loss=0\n",
        "    total=0\n",
        "    correct = 0\n",
        "    model.train()\n",
        "    for inputs, labels in loader:\n",
        "        inputs, labels = inputs.to(args.device), labels.to(args.device)\n",
        "        inputs = inputs.view(-1, args.in_dim)\n",
        "\n",
        "        optimizer.zero_grad()\n",
        "        outputs = model.forward(inputs)\n",
        "        loss = criterion(outputs, labels)\n",
        "        loss.backward()\n",
        "        optimizer.step()\n",
        "\n",
        "        running_loss += loss.item()\n",
        "\n",
        "        # 정확도 계산\n",
        "        _, predicted = torch.max(outputs, 1)\n",
        "        total += labels.size(0)\n",
        "        correct += (predicted == labels).sum().item()\n",
        "\n",
        "    loss = running_loss/len(loader)\n",
        "    accuracy = 100. * correct / total\n",
        "    return loss, accuracy\n",
        "        \n",
        "#loss, accuracy = train(model, trainLoader, criterion, optimizer)\n",
        "#print(loss, accuracy)"
      ]
    },
    {
      "cell_type": "code",
      "execution_count": 81,
      "metadata": {},
      "outputs": [],
      "source": [
        "def evaluate(model : MLP, loader:torch.utils.data.DataLoader, criterion:nn.Module, optimizer:optim.Optimizer):\n",
        "    val_loss=0\n",
        "    total=0\n",
        "    correct = 0\n",
        "    model.eval()\n",
        "\n",
        "    with torch.no_grad():\n",
        "        for inputs, labels in loader:\n",
        "            inputs, labels = inputs.to(args.device), labels.to(args.device)\n",
        "            inputs = inputs.view(-1, args.in_dim)\n",
        "\n",
        "            outputs = model.forward(inputs)\n",
        "            loss = criterion(outputs, labels)\n",
        "\n",
        "            val_loss += loss.item()\n",
        "\n",
        "            # 정확도 계산\n",
        "            _, predicted = torch.max(outputs, 1)\n",
        "            total += labels.size(0)\n",
        "            correct += (predicted == labels).sum().item()\n",
        "\n",
        "    loss = val_loss/len(loader)\n",
        "    accuracy = 100. * correct / total\n",
        "    return loss, accuracy\n",
        "        \n",
        "#loss, accuracy = train(model, validateLoader, criterion, optimizer)\n",
        "#print(loss, accuracy)"
      ]
    },
    {
      "cell_type": "code",
      "execution_count": 82,
      "metadata": {},
      "outputs": [],
      "source": [
        "def experiment():\n",
        "    model = MLP(args.in_dim, args.out_dim, args.hidden_dim, args.hidden_layer, args.act)\n",
        "    model.to(args.device)\n",
        "    criterion = nn.CrossEntropyLoss()\n",
        "    optimizer = optim.SGD(model.parameters(), lr=args.lr, momentum=args.momentum)\n",
        "    for epoch in range(args.epoch):\n",
        "        trainLoss, trainAccuracy = train(model, trainLoader, criterion, optimizer)\n",
        "        valLoss, valAccuracy = evaluate(model, validateLoader, criterion, optimizer)\n",
        "\n",
        "        print(f\"[{epoch}] trainLoss:{trainLoss}, trainAcc:{trainAccuracy}, valLoss:{valLoss}, valAcc:{valAccuracy}\")\n",
        "\n",
        "    _, testAccuracy = evaluate(model, testLoader, criterion, optimizer)\n",
        "    return testAccuracy\n",
        "\n",
        "#experiment()\n"
      ]
    },
    {
      "cell_type": "code",
      "execution_count": 83,
      "metadata": {},
      "outputs": [
        {
          "name": "stdout",
          "output_type": "stream",
          "text": [
            "[0] trainLoss:1.9308071351230145, trainAcc:28.26, valLoss:1.804340796804428, valAcc:34.6675\n",
            "[1] trainLoss:1.7651046061635018, trainAcc:36.0775, valLoss:1.7003006706804038, valAcc:38.4525\n",
            "[2] trainLoss:1.7106247618108987, trainAcc:38.105, valLoss:1.6816087897062302, valAcc:38.71\n",
            "[3] trainLoss:1.6807909140899777, trainAcc:39.2725, valLoss:1.6691659882903098, valAcc:39.505\n",
            "[4] trainLoss:1.6607656986624002, trainAcc:40.1775, valLoss:1.6289543049901725, valAcc:41.18\n",
            "3, 10 : 41.18\n",
            "[0] trainLoss:1.7949716968148948, trainAcc:34.9675, valLoss:1.606600177770853, valAcc:42.7325\n"
          ]
        },
        {
          "ename": "KeyboardInterrupt",
          "evalue": "",
          "output_type": "error",
          "traceback": [
            "\u001b[1;31m---------------------------------------------------------------------------\u001b[0m",
            "\u001b[1;31mKeyboardInterrupt\u001b[0m                         Traceback (most recent call last)",
            "Cell \u001b[1;32mIn[83], line 8\u001b[0m\n\u001b[0;32m      6\u001b[0m args\u001b[38;5;241m.\u001b[39mhidden_layer \u001b[38;5;241m=\u001b[39m layer\n\u001b[0;32m      7\u001b[0m args\u001b[38;5;241m.\u001b[39mhidden_dim \u001b[38;5;241m=\u001b[39m dim\n\u001b[1;32m----> 8\u001b[0m \u001b[38;5;28mprint\u001b[39m(\u001b[38;5;124mf\u001b[39m\u001b[38;5;124m\"\u001b[39m\u001b[38;5;132;01m{\u001b[39;00mlayer\u001b[38;5;132;01m}\u001b[39;00m\u001b[38;5;124m, \u001b[39m\u001b[38;5;132;01m{\u001b[39;00mdim\u001b[38;5;132;01m}\u001b[39;00m\u001b[38;5;124m : \u001b[39m\u001b[38;5;132;01m{\u001b[39;00mexperiment()\u001b[38;5;132;01m}\u001b[39;00m\u001b[38;5;124m\"\u001b[39m)\n",
            "Cell \u001b[1;32mIn[82], line 8\u001b[0m, in \u001b[0;36mexperiment\u001b[1;34m()\u001b[0m\n\u001b[0;32m      6\u001b[0m \u001b[38;5;28;01mfor\u001b[39;00m epoch \u001b[38;5;129;01min\u001b[39;00m \u001b[38;5;28mrange\u001b[39m(args\u001b[38;5;241m.\u001b[39mepoch):\n\u001b[0;32m      7\u001b[0m     trainLoss, trainAccuracy \u001b[38;5;241m=\u001b[39m train(model, trainLoader, criterion, optimizer)\n\u001b[1;32m----> 8\u001b[0m     valLoss, valAccuracy \u001b[38;5;241m=\u001b[39m \u001b[43mevaluate\u001b[49m\u001b[43m(\u001b[49m\u001b[43mmodel\u001b[49m\u001b[43m,\u001b[49m\u001b[43m \u001b[49m\u001b[43mvalidateLoader\u001b[49m\u001b[43m,\u001b[49m\u001b[43m \u001b[49m\u001b[43mcriterion\u001b[49m\u001b[43m,\u001b[49m\u001b[43m \u001b[49m\u001b[43moptimizer\u001b[49m\u001b[43m)\u001b[49m\n\u001b[0;32m     10\u001b[0m     \u001b[38;5;28mprint\u001b[39m(\u001b[38;5;124mf\u001b[39m\u001b[38;5;124m\"\u001b[39m\u001b[38;5;124m[\u001b[39m\u001b[38;5;132;01m{\u001b[39;00mepoch\u001b[38;5;132;01m}\u001b[39;00m\u001b[38;5;124m] trainLoss:\u001b[39m\u001b[38;5;132;01m{\u001b[39;00mtrainLoss\u001b[38;5;132;01m}\u001b[39;00m\u001b[38;5;124m, trainAcc:\u001b[39m\u001b[38;5;132;01m{\u001b[39;00mtrainAccuracy\u001b[38;5;132;01m}\u001b[39;00m\u001b[38;5;124m, valLoss:\u001b[39m\u001b[38;5;132;01m{\u001b[39;00mvalLoss\u001b[38;5;132;01m}\u001b[39;00m\u001b[38;5;124m, valAcc:\u001b[39m\u001b[38;5;132;01m{\u001b[39;00mvalAccuracy\u001b[38;5;132;01m}\u001b[39;00m\u001b[38;5;124m\"\u001b[39m)\n\u001b[0;32m     12\u001b[0m _, testAccuracy \u001b[38;5;241m=\u001b[39m evaluate(model, testLoader, criterion, optimizer)\n",
            "Cell \u001b[1;32mIn[81], line 12\u001b[0m, in \u001b[0;36mevaluate\u001b[1;34m(model, loader, criterion, optimizer)\u001b[0m\n\u001b[0;32m      9\u001b[0m inputs, labels \u001b[38;5;241m=\u001b[39m inputs\u001b[38;5;241m.\u001b[39mto(args\u001b[38;5;241m.\u001b[39mdevice), labels\u001b[38;5;241m.\u001b[39mto(args\u001b[38;5;241m.\u001b[39mdevice)\n\u001b[0;32m     10\u001b[0m inputs \u001b[38;5;241m=\u001b[39m inputs\u001b[38;5;241m.\u001b[39mview(\u001b[38;5;241m-\u001b[39m\u001b[38;5;241m1\u001b[39m, args\u001b[38;5;241m.\u001b[39min_dim)\n\u001b[1;32m---> 12\u001b[0m outputs \u001b[38;5;241m=\u001b[39m \u001b[43mmodel\u001b[49m\u001b[38;5;241;43m.\u001b[39;49m\u001b[43mforward\u001b[49m\u001b[43m(\u001b[49m\u001b[43minputs\u001b[49m\u001b[43m)\u001b[49m\n\u001b[0;32m     13\u001b[0m loss \u001b[38;5;241m=\u001b[39m criterion(outputs, labels)\n\u001b[0;32m     15\u001b[0m val_loss \u001b[38;5;241m+\u001b[39m\u001b[38;5;241m=\u001b[39m loss\u001b[38;5;241m.\u001b[39mitem()\n",
            "Cell \u001b[1;32mIn[78], line 27\u001b[0m, in \u001b[0;36mMLP.forward\u001b[1;34m(self, x)\u001b[0m\n\u001b[0;32m     25\u001b[0m \u001b[38;5;28;01mfor\u001b[39;00m layer \u001b[38;5;129;01min\u001b[39;00m \u001b[38;5;28mself\u001b[39m\u001b[38;5;241m.\u001b[39mlayers:\n\u001b[0;32m     26\u001b[0m   x \u001b[38;5;241m=\u001b[39m layer(x)\n\u001b[1;32m---> 27\u001b[0m   x \u001b[38;5;241m=\u001b[39m \u001b[38;5;28mself\u001b[39m\u001b[38;5;241m.\u001b[39mact(x)\n\u001b[0;32m     28\u001b[0m x \u001b[38;5;241m=\u001b[39m \u001b[38;5;28mself\u001b[39m\u001b[38;5;241m.\u001b[39moutlayer(x)\n\u001b[0;32m     29\u001b[0m \u001b[38;5;28;01mreturn\u001b[39;00m x\n",
            "\u001b[1;31mKeyboardInterrupt\u001b[0m: "
          ]
        }
      ],
      "source": [
        "layer_n=[3,4,5]\n",
        "dim_n=[10, 50, 100]\n",
        "\n",
        "for layer in layer_n:\n",
        "    for dim in dim_n:\n",
        "        args.hidden_layer = layer\n",
        "        args.hidden_dim = dim\n",
        "        print(f\"{layer}, {dim} : {experiment()}\")"
      ]
    }
  ],
  "metadata": {
    "accelerator": "GPU",
    "colab": {
      "authorship_tag": "ABX9TyPBFRaZqBtFhAOAwZ0MjUBX",
      "gpuType": "T4",
      "include_colab_link": true,
      "provenance": []
    },
    "kernelspec": {
      "display_name": "Python 3",
      "name": "python3"
    },
    "language_info": {
      "codemirror_mode": {
        "name": "ipython",
        "version": 3
      },
      "file_extension": ".py",
      "mimetype": "text/x-python",
      "name": "python",
      "nbconvert_exporter": "python",
      "pygments_lexer": "ipython3",
      "version": "3.8.0"
    }
  },
  "nbformat": 4,
  "nbformat_minor": 0
}
