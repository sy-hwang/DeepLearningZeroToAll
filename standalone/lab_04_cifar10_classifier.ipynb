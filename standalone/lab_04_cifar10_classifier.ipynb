{
  "nbformat": 4,
  "nbformat_minor": 0,
  "metadata": {
    "colab": {
      "provenance": [],
      "gpuType": "T4",
      "authorship_tag": "ABX9TyPBFRaZqBtFhAOAwZ0MjUBX",
      "include_colab_link": true
    },
    "kernelspec": {
      "name": "python3",
      "display_name": "Python 3"
    },
    "language_info": {
      "name": "python"
    },
    "accelerator": "GPU"
  },
  "cells": [
    {
      "cell_type": "markdown",
      "metadata": {
        "id": "view-in-github",
        "colab_type": "text"
      },
      "source": [
        "<a href=\"https://colab.research.google.com/github/sy-hwang/DeepLearningZeroToAll/blob/master/standalone/lab_04_cifar10_classifier.ipynb\" target=\"_parent\"><img src=\"https://colab.research.google.com/assets/colab-badge.svg\" alt=\"Open In Colab\"/></a>"
      ]
    },
    {
      "cell_type": "code",
      "execution_count": 1,
      "metadata": {
        "colab": {
          "base_uri": "https://localhost:8080/"
        },
        "id": "K0OjXCwd5Xn-",
        "outputId": "c71d7abe-0f18-40cc-baa3-6931ba5fab3c"
      },
      "outputs": [
        {
          "output_type": "stream",
          "name": "stdout",
          "text": [
            "\u001b[31mERROR: Could not find a version that satisfies the requirement torch==1.0.0 (from versions: 1.11.0, 1.12.0, 1.12.1, 1.13.0, 1.13.1, 2.0.0, 2.0.1, 2.1.0, 2.1.1, 2.1.2, 2.2.0, 2.2.1, 2.2.2, 2.3.0, 2.3.1, 2.4.0, 2.4.1)\u001b[0m\u001b[31m\n",
            "\u001b[0m\u001b[31mERROR: No matching distribution found for torch==1.0.0\u001b[0m\u001b[31m\n",
            "\u001b[0m2.4.0+cu121\n"
          ]
        }
      ],
      "source": [
        "!pip install -q torch==1.0.0 torchvision\n",
        "import torch\n",
        "print(torch.__version__)"
      ]
    },
    {
      "cell_type": "code",
      "source": [
        "import torch\n",
        "import torchvision\n",
        "import torchvision.transforms as transforms"
      ],
      "metadata": {
        "id": "L3671PS25jo_"
      },
      "execution_count": 2,
      "outputs": []
    },
    {
      "cell_type": "code",
      "source": [
        "transform = transforms.Compose(\n",
        "    [transforms.ToTensor(),\n",
        "     transforms.Normalize((0.5, 0.5, 0.5), (0.5, 0.5, 0.5))])\n",
        "\n",
        "batch_size = 4\n",
        "\n",
        "trainset = torchvision.datasets.CIFAR10(root='./data', train=True,\n",
        "                                        download=True, transform=transform)\n",
        "trainset, valset = torch.utils.data.random_split(trainset, [40000, 10000])\n",
        "\n",
        "trainloader = torch.utils.data.DataLoader(trainset, batch_size=4, shuffle=True, num_workers=2)\n",
        "valloader = torch.utils.data.DataLoader(valset, batch_size=4, shuffle=False)\n",
        "\n",
        "testset = torchvision.datasets.CIFAR10(root='./data', train=False,\n",
        "                                       download=True, transform=transform)\n",
        "testloader = torch.utils.data.DataLoader(testset, batch_size=batch_size,\n",
        "                                         shuffle=False, num_workers=2)\n",
        "print(len(trainset), len(valset), len(testset))\n",
        "classes = ('plane', 'car', 'bird', 'cat',\n",
        "           'deer', 'dog', 'frog', 'horse', 'ship', 'truck')"
      ],
      "metadata": {
        "colab": {
          "base_uri": "https://localhost:8080/"
        },
        "id": "OruxtntF5xSY",
        "outputId": "29567f1c-61dc-41c1-8af9-7d9a735527c7"
      },
      "execution_count": 46,
      "outputs": [
        {
          "output_type": "stream",
          "name": "stdout",
          "text": [
            "Files already downloaded and verified\n",
            "Files already downloaded and verified\n",
            "40000 10000 10000\n"
          ]
        }
      ]
    },
    {
      "cell_type": "code",
      "source": [
        "import matplotlib.pyplot as plt\n",
        "import numpy as np\n",
        "\n",
        "# 이미지를 보여주기 위한 함수\n",
        "\n",
        "def imshow(img):\n",
        "    img = img / 2 + 0.5     # unnormalize\n",
        "    npimg = img.numpy()\n",
        "    plt.imshow(np.transpose(npimg, (1, 2, 0)))\n",
        "    plt.show()\n",
        "\n",
        "\n",
        "# 학습용 이미지를 무작위로 가져오기\n",
        "dataiter = iter(trainloader)\n",
        "images, labels = next(dataiter)\n",
        "\n",
        "# 이미지 보여주기\n",
        "imshow(torchvision.utils.make_grid(images))\n",
        "# 정답(label) 출력\n",
        "print(' '.join(f'{classes[labels[j]]:5s}' for j in range(batch_size)))"
      ],
      "metadata": {
        "colab": {
          "base_uri": "https://localhost:8080/",
          "height": 211
        },
        "id": "N-aAuPZ650KZ",
        "outputId": "0fd7fe8c-4d70-4502-a783-40a638b011e5"
      },
      "execution_count": 47,
      "outputs": [
        {
          "output_type": "display_data",
          "data": {
            "text/plain": [
              "<Figure size 640x480 with 1 Axes>"
            ],
            "image/png": "[encoded data removed]"
          },
          "metadata": {}
        },
        {
          "output_type": "stream",
          "name": "stdout",
          "text": [
            "frog  frog  car   dog  \n"
          ]
        }
      ]
    },
    {
      "cell_type": "code",
      "source": [
        "print(type(images), images.shape) #batchsize =4, channnel=3, widthxheight=32x32\n",
        "print(type(labels), labels.shape, labels)"
      ],
      "metadata": {
        "colab": {
          "base_uri": "https://localhost:8080/"
        },
        "id": "Q_HkYpK86cyY",
        "outputId": "9d56b6fd-8eef-4bd9-d2bc-495d6b7689b0"
      },
      "execution_count": 48,
      "outputs": [
        {
          "output_type": "stream",
          "name": "stdout",
          "text": [
            "<class 'torch.Tensor'> torch.Size([4, 3, 32, 32])\n",
            "<class 'torch.Tensor'> torch.Size([4]) tensor([6, 6, 1, 5])\n"
          ]
        }
      ]
    },
    {
      "cell_type": "code",
      "source": [
        "import torch.nn as nn\n",
        "class MLP(nn.Module):\n",
        "  def __init__(self, in_dim, out_dim, hidden_dim, hidden_layer, act):\n",
        "    super(MLP, self).__init__()\n",
        "    self.in_dim = in_dim\n",
        "    self.out_dim = out_dim\n",
        "    self.hidden_dim = hidden_dim\n",
        "    self.hidden_layer = hidden_layer\n",
        "\n",
        "    self.layers = nn.ModuleList()\n",
        "    self.layers.append(nn.Linear(in_dim, hidden_dim))\n",
        "    for _ in range(hidden_layer-1):\n",
        "      self.layers.append(nn.Linear(hidden_dim, hidden_dim))\n",
        "    self.outlayer = nn.Linear(hidden_dim, out_dim)\n",
        "\n",
        "    if(act == 'relu'):\n",
        "      self.act = nn.ReLU()\n",
        "    elif(act == 'sigmoid'):\n",
        "      self.act = nn.Sigmoid()\n",
        "    elif(act == 'tanh'):\n",
        "      self.act = nn.Tanh()\n",
        "    else:\n",
        "      self.act = nn.ReLU()\n",
        "\n",
        "  def forward(self, x):\n",
        "    for layer in self.layers:\n",
        "      x = layer(x)\n",
        "      x = self.act(x)\n",
        "    x = self.outlayer(x)\n",
        "    return x\n",
        "\n",
        "model = MLP(3072, 10, 100, 4, 'relu')\n",
        "device = torch.device(\"cuda:0\" if torch.cuda.is_available() else \"cpu\")\n",
        "model.to(device)\n",
        "print(model)"
      ],
      "metadata": {
        "colab": {
          "base_uri": "https://localhost:8080/"
        },
        "id": "KojywaXt6pEs",
        "outputId": "791fc938-79eb-4af9-aca9-e86192ee64c8"
      },
      "execution_count": 49,
      "outputs": [
        {
          "output_type": "stream",
          "name": "stdout",
          "text": [
            "MLP(\n",
            "  (layers): ModuleList(\n",
            "    (0): Linear(in_features=3072, out_features=100, bias=True)\n",
            "    (1-3): 3 x Linear(in_features=100, out_features=100, bias=True)\n",
            "  )\n",
            "  (outlayer): Linear(in_features=100, out_features=10, bias=True)\n",
            "  (act): ReLU()\n",
            ")\n"
          ]
        }
      ]
    },
    {
      "cell_type": "code",
      "source": [
        "import torch.optim as optim\n",
        "\n",
        "criterion = nn.CrossEntropyLoss()\n",
        "optimizer = optim.SGD(model.parameters(), lr=0.001, momentum=0.9)"
      ],
      "metadata": {
        "id": "WycenmIU-PKf"
      },
      "execution_count": 50,
      "outputs": []
    },
    {
      "cell_type": "code",
      "source": [
        "for epoch in range(2):   # 데이터셋을 수차례 반복합니다.\n",
        "\n",
        "    running_loss = 0.0\n",
        "    for i, data in enumerate(trainloader, 0):\n",
        "        # [inputs, labels]의 목록인 data로부터 입력을 받은 후;\n",
        "        inputs, labels = data\n",
        "        inputs= inputs.to(device)\n",
        "        labels = labels.to(device)\n",
        "        inputs = inputs.view(-1, 3072)\n",
        "\n",
        "\n",
        "        # 변화도(Gradient) 매개변수를 0으로 만들고\n",
        "        optimizer.zero_grad()\n",
        "\n",
        "        # 순전파 + 역전파 + 최적화를 한 후\n",
        "        outputs = model.forward(inputs)\n",
        "        loss = criterion(outputs, labels)\n",
        "        loss.backward()\n",
        "        optimizer.step()\n",
        "\n",
        "        # 통계를 출력합니다.\n",
        "        running_loss += loss.item()\n",
        "        if i % 2000 == 1999:    # print every 2000 mini-batches\n",
        "            print(f'[{epoch + 1}, {i + 1:5d}] loss: {running_loss / 2000:.3f}')\n",
        "            running_loss = 0.0\n",
        "\n",
        "print('Finished Training')"
      ],
      "metadata": {
        "colab": {
          "base_uri": "https://localhost:8080/"
        },
        "id": "fwvdAk8l_0Mu",
        "outputId": "7bee7d2d-8f98-466a-aed1-5f7a5b0200a5"
      },
      "execution_count": 51,
      "outputs": [
        {
          "output_type": "stream",
          "name": "stdout",
          "text": [
            "[1,  2000] loss: 2.165\n",
            "[1,  4000] loss: 1.897\n",
            "[1,  6000] loss: 1.767\n",
            "[1,  8000] loss: 1.701\n",
            "[1, 10000] loss: 1.661\n",
            "[2,  2000] loss: 1.600\n",
            "[2,  4000] loss: 1.576\n",
            "[2,  6000] loss: 1.549\n",
            "[2,  8000] loss: 1.561\n",
            "[2, 10000] loss: 1.532\n",
            "Finished Training\n"
          ]
        }
      ]
    },
    {
      "cell_type": "code",
      "source": [
        "#===========Test Accuray==============\n",
        "correct = 0\n",
        "total = 0\n",
        "# 학습 중이 아니므로, 출력에 대한 변화도를 계산할 필요가 없습니다\n",
        "with torch.no_grad():\n",
        "    for data in testloader:\n",
        "        images, labels = data\n",
        "        images= images.to(device)\n",
        "        labels = labels.to(device)\n",
        "        images = images.view(-1, 3072)\n",
        "        # 신경망에 이미지를 통과시켜 출력을 계산합니다\n",
        "        outputs = model(images)\n",
        "        # 가장 높은 값(energy)를 갖는 분류(class)를 정답으로 선택하겠습니다\n",
        "        _, predicted = torch.max(outputs.data, 1)\n",
        "        total += labels.size(0)\n",
        "        correct += (predicted == labels).sum().item()\n",
        "\n",
        "print(f'Accuracy of the network on the 10000 test images: {100 * correct // total} %')"
      ],
      "metadata": {
        "colab": {
          "base_uri": "https://localhost:8080/"
        },
        "id": "3HlBtHdsADkN",
        "outputId": "88eefb45-e485-412b-839c-0ef0f18dc1e9"
      },
      "execution_count": 80,
      "outputs": [
        {
          "output_type": "stream",
          "name": "stdout",
          "text": [
            "Accuracy of the network on the 10000 test images: 44 %\n"
          ]
        }
      ]
    },
    {
      "cell_type": "code",
      "source": [
        "#===========Val Accuray==============\n",
        "correct = 0\n",
        "total = 0\n",
        "# 학습 중이 아니므로, 출력에 대한 변화도를 계산할 필요가 없습니다\n",
        "val_loss = 0\n",
        "with torch.no_grad():\n",
        "    for data in valloader:\n",
        "        images, labels = data\n",
        "        images= images.to(device)\n",
        "        labels = labels.to(device)\n",
        "        images = images.view(-1, 3072)\n",
        "        # 신경망에 이미지를 통과시켜 출력을 계산합니다\n",
        "        outputs = model(images)\n",
        "        loss = criterion(outputs, labels)\n",
        "        val_loss += loss.item()\n",
        "        # 가장 높은 값(energy)를 갖는 분류(class)를 정답으로 선택하겠습니다\n",
        "        _, predicted = torch.max(outputs.data, 1)\n",
        "        total += labels.size(0)\n",
        "        correct += (predicted == labels).sum().item()\n",
        "\n",
        "    val_loss = val_loss/len(valloader)\n",
        "\n",
        "print(f'Accuracy of the network on the 10000 test images: {100 * correct // total} %, loss:{val_loss}')"
      ],
      "metadata": {
        "colab": {
          "base_uri": "https://localhost:8080/"
        },
        "id": "2gDCdmytCfsn",
        "outputId": "f83f4a3c-ee06-40b8-ac87-ab1dedd3ff7a"
      },
      "execution_count": 55,
      "outputs": [
        {
          "output_type": "stream",
          "name": "stdout",
          "text": [
            "Accuracy of the network on the 10000 test images: 44 %, loss:1.5668964040160178\n"
          ]
        }
      ]
    },
    {
      "cell_type": "code",
      "source": [
        "def experiment(args):\n",
        "  model = MLP(args.in_dim, args.out_dim, args.hidden_dim, args.n_layer, args.act)\n",
        "  model.to(args.device)\n",
        "\n",
        "  criterion = nn.CrossEntropyLoss()\n",
        "  optimizer = optim.SGD(model.parameters(), args.lr, args.momentum)\n",
        "\n",
        "  for epoch in range(args.epoch):   # 데이터셋을 수차례 반복합니다.\n",
        "\n",
        "    running_loss = 0.0\n",
        "    for i, data in enumerate(trainloader, 0):\n",
        "        # [inputs, labels]의 목록인 data로부터 입력을 받은 후;\n",
        "        inputs, labels = data\n",
        "        inputs= inputs.to(device)\n",
        "        labels = labels.to(device)\n",
        "        inputs = inputs.view(-1, 3072)\n",
        "\n",
        "\n",
        "        # 변화도(Gradient) 매개변수를 0으로 만들고\n",
        "        optimizer.zero_grad()\n",
        "\n",
        "        # 순전파 + 역전파 + 최적화를 한 후\n",
        "        outputs = model.forward(inputs)\n",
        "        loss = criterion(outputs, labels)\n",
        "        loss.backward()\n",
        "        optimizer.step()\n",
        "\n",
        "        # 통계를 출력합니다.\n",
        "        running_loss += loss.item()\n",
        "\n",
        "        #===========Val Accuray==============\n",
        "    correct = 0\n",
        "    total = 0\n",
        "    # 학습 중이 아니므로, 출력에 대한 변화도를 계산할 필요가 없습니다\n",
        "    val_loss = 0\n",
        "    with torch.no_grad():\n",
        "        for data in valloader:\n",
        "            images, labels = data\n",
        "            images= images.to(device)\n",
        "            labels = labels.to(device)\n",
        "            images = images.view(-1, 3072)\n",
        "            # 신경망에 이미지를 통과시켜 출력을 계산합니다\n",
        "            outputs = model(images)\n",
        "            loss = criterion(outputs, labels)\n",
        "            val_loss += loss.item()\n",
        "            # 가장 높은 값(energy)를 갖는 분류(class)를 정답으로 선택하겠습니다\n",
        "            _, predicted = torch.max(outputs.data, 1)\n",
        "            total += labels.size(0)\n",
        "            correct += (predicted == labels).sum().item()\n",
        "\n",
        "        val_loss = val_loss/len(valloader)\n",
        "\n",
        "    print(f'[{epoch}]trainloss:{running_loss} val Accuracy: {100 * correct // total} %, val loss:{val_loss}')\n",
        "\n",
        "  correct = 0\n",
        "  total = 0\n",
        "  # 학습 중이 아니므로, 출력에 대한 변화도를 계산할 필요가 없습니다\n",
        "  with torch.no_grad():\n",
        "      for data in testloader:\n",
        "          images, labels = data\n",
        "          images= images.to(device)\n",
        "          labels = labels.to(device)\n",
        "          images = images.view(-1, 3072)\n",
        "          # 신경망에 이미지를 통과시켜 출력을 계산합니다\n",
        "          outputs = model(images)\n",
        "          # 가장 높은 값(energy)를 갖는 분류(class)를 정답으로 선택하겠습니다\n",
        "          _, predicted = torch.max(outputs.data, 1)\n",
        "          total += labels.size(0)\n",
        "          correct += (predicted == labels).sum().item()\n",
        "\n",
        "  print(f'Accuracy of the network on the 10000 test images: {100 * correct // total} %')\n",
        "  return 100 * correct // total\n"
      ],
      "metadata": {
        "id": "kSbVD6aGEZMf"
      },
      "execution_count": 83,
      "outputs": []
    },
    {
      "cell_type": "code",
      "source": [
        "import argparse\n",
        "\n",
        "seed = 123\n",
        "np.random.seed(seed)\n",
        "torch.manual_seed(seed)\n",
        "torch.cuda.manual_seed(seed)\n",
        "\n",
        "parser = argparse.ArgumentParser()\n",
        "args = parser.parse_args(\"\")\n",
        "\n",
        "args.n_layer = 5\n",
        "args.in_dim = 3072\n",
        "args.out_dim = 10\n",
        "args.hidden_dim = 100\n",
        "args.act = 'relu'\n",
        "args.device = torch.device(\"cuda:0\" if torch.cuda.is_available() else \"cpu\")\n",
        "args.lr = 0.001\n",
        "args.batch_size = 4\n",
        "args.epoch = 5\n",
        "args.momentum = 0.9\n",
        "\n",
        "print(experiment(args))"
      ],
      "metadata": {
        "colab": {
          "base_uri": "https://localhost:8080/"
        },
        "id": "oqIsjFnnGgdn",
        "outputId": "38bf40eb-a053-41d7-bf77-30035e8db300"
      },
      "execution_count": 84,
      "outputs": [
        {
          "output_type": "stream",
          "name": "stdout",
          "text": [
            "[0]trainloss:19645.225998461246 val Accuracy: 37 %, val loss:1.686545539546013\n",
            "[1]trainloss:16044.64200207591 val Accuracy: 43 %, val loss:1.5954691214442254\n",
            "[2]trainloss:14854.03188547492 val Accuracy: 47 %, val loss:1.488554115152359\n",
            "[3]trainloss:13988.726581089199 val Accuracy: 48 %, val loss:1.4594301045179368\n",
            "[4]trainloss:13338.059758469462 val Accuracy: 50 %, val loss:1.4273204376637936\n",
            "Accuracy of the network on the 10000 test images: 50 %\n",
            "50\n"
          ]
        }
      ]
    },
    {
      "cell_type": "code",
      "source": [
        "l"
      ],
      "metadata": {
        "id": "hi_4Lx2GGjEC"
      },
      "execution_count": null,
      "outputs": []
    }
  ]
}